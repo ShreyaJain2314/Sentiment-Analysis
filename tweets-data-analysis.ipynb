{
 "cells": [
  {
   "cell_type": "code",
   "execution_count": null,
   "id": "399ecd56",
   "metadata": {
    "papermill": {
     "duration": 0.00904,
     "end_time": "2024-11-23T15:23:28.086425",
     "exception": false,
     "start_time": "2024-11-23T15:23:28.077385",
     "status": "completed"
    },
    "tags": []
   },
   "outputs": [],
   "source": []
  },
  {
   "cell_type": "code",
   "execution_count": 1,
   "id": "d50901c5",
   "metadata": {
    "_cell_guid": "b1076dfc-b9ad-4769-8c92-a6c4dae69d19",
    "_uuid": "8f2839f25d086af736a60e9eeb907d3b93b6e0e5",
    "execution": {
     "iopub.execute_input": "2024-11-23T15:23:28.105069Z",
     "iopub.status.busy": "2024-11-23T15:23:28.104739Z",
     "iopub.status.idle": "2024-11-23T15:23:28.815890Z",
     "shell.execute_reply": "2024-11-23T15:23:28.815078Z"
    },
    "papermill": {
     "duration": 0.722362,
     "end_time": "2024-11-23T15:23:28.818046",
     "exception": false,
     "start_time": "2024-11-23T15:23:28.095684",
     "status": "completed"
    },
    "tags": []
   },
   "outputs": [
    {
     "name": "stdout",
     "output_type": "stream",
     "text": [
      "/kaggle/input/sentiment140/training.1600000.processed.noemoticon.csv\n"
     ]
    }
   ],
   "source": [
    "# This Python 3 environment comes with many helpful analytics libraries installed\n",
    "# It is defined by the kaggle/python Docker image: https://github.com/kaggle/docker-python\n",
    "# For example, here's several helpful packages to load\n",
    "\n",
    "import numpy as np # linear algebra\n",
    "import pandas as pd # data processing, CSV file I/O (e.g. pd.read_csv)\n",
    "\n",
    "# Input data files are available in the read-only \"../input/\" directory\n",
    "# For example, running this (by clicking run or pressing Shift+Enter) will list all files under the input directory\n",
    "\n",
    "import os\n",
    "for dirname, _, filenames in os.walk('/kaggle/input'):\n",
    "    for filename in filenames:\n",
    "        print(os.path.join(dirname, filename))\n",
    "\n",
    "# You can write up to 20GB to the current directory (/kaggle/working/) that gets preserved as output when you create a version using \"Save & Run All\" \n",
    "# You can also write temporary files to /kaggle/temp/, but they won't be saved outside of the current session"
   ]
  },
  {
   "cell_type": "code",
   "execution_count": 2,
   "id": "2ebfb012",
   "metadata": {
    "execution": {
     "iopub.execute_input": "2024-11-23T15:23:28.833889Z",
     "iopub.status.busy": "2024-11-23T15:23:28.833496Z",
     "iopub.status.idle": "2024-11-23T15:23:34.497932Z",
     "shell.execute_reply": "2024-11-23T15:23:34.497206Z"
    },
    "papermill": {
     "duration": 5.674243,
     "end_time": "2024-11-23T15:23:34.499933",
     "exception": false,
     "start_time": "2024-11-23T15:23:28.825690",
     "status": "completed"
    },
    "tags": []
   },
   "outputs": [],
   "source": [
    "df=pd.read_csv(\"/kaggle/input/sentiment140/training.1600000.processed.noemoticon.csv\",encoding=\"latin\",header=None,on_bad_lines=\"skip\")"
   ]
  },
  {
   "cell_type": "code",
   "execution_count": 3,
   "id": "e2c82a48",
   "metadata": {
    "execution": {
     "iopub.execute_input": "2024-11-23T15:23:34.515942Z",
     "iopub.status.busy": "2024-11-23T15:23:34.515659Z",
     "iopub.status.idle": "2024-11-23T15:23:34.533509Z",
     "shell.execute_reply": "2024-11-23T15:23:34.532704Z"
    },
    "papermill": {
     "duration": 0.027451,
     "end_time": "2024-11-23T15:23:34.535294",
     "exception": false,
     "start_time": "2024-11-23T15:23:34.507843",
     "status": "completed"
    },
    "tags": []
   },
   "outputs": [
    {
     "data": {
      "text/html": [
       "<div>\n",
       "<style scoped>\n",
       "    .dataframe tbody tr th:only-of-type {\n",
       "        vertical-align: middle;\n",
       "    }\n",
       "\n",
       "    .dataframe tbody tr th {\n",
       "        vertical-align: top;\n",
       "    }\n",
       "\n",
       "    .dataframe thead th {\n",
       "        text-align: right;\n",
       "    }\n",
       "</style>\n",
       "<table border=\"1\" class=\"dataframe\">\n",
       "  <thead>\n",
       "    <tr style=\"text-align: right;\">\n",
       "      <th></th>\n",
       "      <th>0</th>\n",
       "      <th>1</th>\n",
       "      <th>2</th>\n",
       "      <th>3</th>\n",
       "      <th>4</th>\n",
       "      <th>5</th>\n",
       "    </tr>\n",
       "  </thead>\n",
       "  <tbody>\n",
       "    <tr>\n",
       "      <th>0</th>\n",
       "      <td>0</td>\n",
       "      <td>1467810369</td>\n",
       "      <td>Mon Apr 06 22:19:45 PDT 2009</td>\n",
       "      <td>NO_QUERY</td>\n",
       "      <td>_TheSpecialOne_</td>\n",
       "      <td>@switchfoot http://twitpic.com/2y1zl - Awww, t...</td>\n",
       "    </tr>\n",
       "    <tr>\n",
       "      <th>1</th>\n",
       "      <td>0</td>\n",
       "      <td>1467810672</td>\n",
       "      <td>Mon Apr 06 22:19:49 PDT 2009</td>\n",
       "      <td>NO_QUERY</td>\n",
       "      <td>scotthamilton</td>\n",
       "      <td>is upset that he can't update his Facebook by ...</td>\n",
       "    </tr>\n",
       "    <tr>\n",
       "      <th>2</th>\n",
       "      <td>0</td>\n",
       "      <td>1467810917</td>\n",
       "      <td>Mon Apr 06 22:19:53 PDT 2009</td>\n",
       "      <td>NO_QUERY</td>\n",
       "      <td>mattycus</td>\n",
       "      <td>@Kenichan I dived many times for the ball. Man...</td>\n",
       "    </tr>\n",
       "    <tr>\n",
       "      <th>3</th>\n",
       "      <td>0</td>\n",
       "      <td>1467811184</td>\n",
       "      <td>Mon Apr 06 22:19:57 PDT 2009</td>\n",
       "      <td>NO_QUERY</td>\n",
       "      <td>ElleCTF</td>\n",
       "      <td>my whole body feels itchy and like its on fire</td>\n",
       "    </tr>\n",
       "    <tr>\n",
       "      <th>4</th>\n",
       "      <td>0</td>\n",
       "      <td>1467811193</td>\n",
       "      <td>Mon Apr 06 22:19:57 PDT 2009</td>\n",
       "      <td>NO_QUERY</td>\n",
       "      <td>Karoli</td>\n",
       "      <td>@nationwideclass no, it's not behaving at all....</td>\n",
       "    </tr>\n",
       "  </tbody>\n",
       "</table>\n",
       "</div>"
      ],
      "text/plain": [
       "   0           1                             2         3                4  \\\n",
       "0  0  1467810369  Mon Apr 06 22:19:45 PDT 2009  NO_QUERY  _TheSpecialOne_   \n",
       "1  0  1467810672  Mon Apr 06 22:19:49 PDT 2009  NO_QUERY    scotthamilton   \n",
       "2  0  1467810917  Mon Apr 06 22:19:53 PDT 2009  NO_QUERY         mattycus   \n",
       "3  0  1467811184  Mon Apr 06 22:19:57 PDT 2009  NO_QUERY          ElleCTF   \n",
       "4  0  1467811193  Mon Apr 06 22:19:57 PDT 2009  NO_QUERY           Karoli   \n",
       "\n",
       "                                                   5  \n",
       "0  @switchfoot http://twitpic.com/2y1zl - Awww, t...  \n",
       "1  is upset that he can't update his Facebook by ...  \n",
       "2  @Kenichan I dived many times for the ball. Man...  \n",
       "3    my whole body feels itchy and like its on fire   \n",
       "4  @nationwideclass no, it's not behaving at all....  "
      ]
     },
     "execution_count": 3,
     "metadata": {},
     "output_type": "execute_result"
    }
   ],
   "source": [
    "df.head()"
   ]
  },
  {
   "cell_type": "code",
   "execution_count": 4,
   "id": "95bd3fcc",
   "metadata": {
    "execution": {
     "iopub.execute_input": "2024-11-23T15:23:34.550637Z",
     "iopub.status.busy": "2024-11-23T15:23:34.550121Z",
     "iopub.status.idle": "2024-11-23T15:23:34.588443Z",
     "shell.execute_reply": "2024-11-23T15:23:34.587610Z"
    },
    "papermill": {
     "duration": 0.047813,
     "end_time": "2024-11-23T15:23:34.590278",
     "exception": false,
     "start_time": "2024-11-23T15:23:34.542465",
     "status": "completed"
    },
    "tags": []
   },
   "outputs": [],
   "source": [
    "df.rename(columns={0:\"labels\",5:\"tweets\"},inplace=True)\n",
    "df.drop([1,2,3,4],axis=1,inplace=True)"
   ]
  },
  {
   "cell_type": "code",
   "execution_count": 5,
   "id": "3e442d31",
   "metadata": {
    "execution": {
     "iopub.execute_input": "2024-11-23T15:23:34.605923Z",
     "iopub.status.busy": "2024-11-23T15:23:34.605649Z",
     "iopub.status.idle": "2024-11-23T15:23:34.615055Z",
     "shell.execute_reply": "2024-11-23T15:23:34.614061Z"
    },
    "papermill": {
     "duration": 0.019116,
     "end_time": "2024-11-23T15:23:34.616860",
     "exception": false,
     "start_time": "2024-11-23T15:23:34.597744",
     "status": "completed"
    },
    "tags": []
   },
   "outputs": [
    {
     "data": {
      "text/html": [
       "<div>\n",
       "<style scoped>\n",
       "    .dataframe tbody tr th:only-of-type {\n",
       "        vertical-align: middle;\n",
       "    }\n",
       "\n",
       "    .dataframe tbody tr th {\n",
       "        vertical-align: top;\n",
       "    }\n",
       "\n",
       "    .dataframe thead th {\n",
       "        text-align: right;\n",
       "    }\n",
       "</style>\n",
       "<table border=\"1\" class=\"dataframe\">\n",
       "  <thead>\n",
       "    <tr style=\"text-align: right;\">\n",
       "      <th></th>\n",
       "      <th>labels</th>\n",
       "      <th>tweets</th>\n",
       "    </tr>\n",
       "  </thead>\n",
       "  <tbody>\n",
       "    <tr>\n",
       "      <th>0</th>\n",
       "      <td>0</td>\n",
       "      <td>@switchfoot http://twitpic.com/2y1zl - Awww, t...</td>\n",
       "    </tr>\n",
       "    <tr>\n",
       "      <th>1</th>\n",
       "      <td>0</td>\n",
       "      <td>is upset that he can't update his Facebook by ...</td>\n",
       "    </tr>\n",
       "    <tr>\n",
       "      <th>2</th>\n",
       "      <td>0</td>\n",
       "      <td>@Kenichan I dived many times for the ball. Man...</td>\n",
       "    </tr>\n",
       "    <tr>\n",
       "      <th>3</th>\n",
       "      <td>0</td>\n",
       "      <td>my whole body feels itchy and like its on fire</td>\n",
       "    </tr>\n",
       "    <tr>\n",
       "      <th>4</th>\n",
       "      <td>0</td>\n",
       "      <td>@nationwideclass no, it's not behaving at all....</td>\n",
       "    </tr>\n",
       "    <tr>\n",
       "      <th>...</th>\n",
       "      <td>...</td>\n",
       "      <td>...</td>\n",
       "    </tr>\n",
       "    <tr>\n",
       "      <th>1599995</th>\n",
       "      <td>4</td>\n",
       "      <td>Just woke up. Having no school is the best fee...</td>\n",
       "    </tr>\n",
       "    <tr>\n",
       "      <th>1599996</th>\n",
       "      <td>4</td>\n",
       "      <td>TheWDB.com - Very cool to hear old Walt interv...</td>\n",
       "    </tr>\n",
       "    <tr>\n",
       "      <th>1599997</th>\n",
       "      <td>4</td>\n",
       "      <td>Are you ready for your MoJo Makeover? Ask me f...</td>\n",
       "    </tr>\n",
       "    <tr>\n",
       "      <th>1599998</th>\n",
       "      <td>4</td>\n",
       "      <td>Happy 38th Birthday to my boo of alll time!!! ...</td>\n",
       "    </tr>\n",
       "    <tr>\n",
       "      <th>1599999</th>\n",
       "      <td>4</td>\n",
       "      <td>happy #charitytuesday @theNSPCC @SparksCharity...</td>\n",
       "    </tr>\n",
       "  </tbody>\n",
       "</table>\n",
       "<p>1600000 rows × 2 columns</p>\n",
       "</div>"
      ],
      "text/plain": [
       "         labels                                             tweets\n",
       "0             0  @switchfoot http://twitpic.com/2y1zl - Awww, t...\n",
       "1             0  is upset that he can't update his Facebook by ...\n",
       "2             0  @Kenichan I dived many times for the ball. Man...\n",
       "3             0    my whole body feels itchy and like its on fire \n",
       "4             0  @nationwideclass no, it's not behaving at all....\n",
       "...         ...                                                ...\n",
       "1599995       4  Just woke up. Having no school is the best fee...\n",
       "1599996       4  TheWDB.com - Very cool to hear old Walt interv...\n",
       "1599997       4  Are you ready for your MoJo Makeover? Ask me f...\n",
       "1599998       4  Happy 38th Birthday to my boo of alll time!!! ...\n",
       "1599999       4  happy #charitytuesday @theNSPCC @SparksCharity...\n",
       "\n",
       "[1600000 rows x 2 columns]"
      ]
     },
     "execution_count": 5,
     "metadata": {},
     "output_type": "execute_result"
    }
   ],
   "source": [
    "df"
   ]
  },
  {
   "cell_type": "code",
   "execution_count": 6,
   "id": "85141795",
   "metadata": {
    "execution": {
     "iopub.execute_input": "2024-11-23T15:23:34.632365Z",
     "iopub.status.busy": "2024-11-23T15:23:34.632145Z",
     "iopub.status.idle": "2024-11-23T15:23:34.717463Z",
     "shell.execute_reply": "2024-11-23T15:23:34.716642Z"
    },
    "papermill": {
     "duration": 0.094902,
     "end_time": "2024-11-23T15:23:34.719292",
     "exception": false,
     "start_time": "2024-11-23T15:23:34.624390",
     "status": "completed"
    },
    "tags": []
   },
   "outputs": [
    {
     "data": {
      "text/plain": [
       "labels    0\n",
       "tweets    0\n",
       "dtype: int64"
      ]
     },
     "execution_count": 6,
     "metadata": {},
     "output_type": "execute_result"
    }
   ],
   "source": [
    "df.isnull().sum()"
   ]
  },
  {
   "cell_type": "code",
   "execution_count": 7,
   "id": "15beb428",
   "metadata": {
    "execution": {
     "iopub.execute_input": "2024-11-23T15:23:34.735774Z",
     "iopub.status.busy": "2024-11-23T15:23:34.735496Z",
     "iopub.status.idle": "2024-11-23T15:23:34.754014Z",
     "shell.execute_reply": "2024-11-23T15:23:34.753396Z"
    },
    "papermill": {
     "duration": 0.028295,
     "end_time": "2024-11-23T15:23:34.755547",
     "exception": false,
     "start_time": "2024-11-23T15:23:34.727252",
     "status": "completed"
    },
    "tags": []
   },
   "outputs": [],
   "source": [
    "df['labels'] = df['labels'].replace(4,1)"
   ]
  },
  {
   "cell_type": "code",
   "execution_count": 8,
   "id": "afcb96ca",
   "metadata": {
    "execution": {
     "iopub.execute_input": "2024-11-23T15:23:34.771133Z",
     "iopub.status.busy": "2024-11-23T15:23:34.770907Z",
     "iopub.status.idle": "2024-11-23T15:23:35.132193Z",
     "shell.execute_reply": "2024-11-23T15:23:35.131357Z"
    },
    "papermill": {
     "duration": 0.371349,
     "end_time": "2024-11-23T15:23:35.134246",
     "exception": false,
     "start_time": "2024-11-23T15:23:34.762897",
     "status": "completed"
    },
    "tags": []
   },
   "outputs": [
    {
     "data": {
      "text/html": [
       "<div>\n",
       "<style scoped>\n",
       "    .dataframe tbody tr th:only-of-type {\n",
       "        vertical-align: middle;\n",
       "    }\n",
       "\n",
       "    .dataframe tbody tr th {\n",
       "        vertical-align: top;\n",
       "    }\n",
       "\n",
       "    .dataframe thead th {\n",
       "        text-align: right;\n",
       "    }\n",
       "</style>\n",
       "<table border=\"1\" class=\"dataframe\">\n",
       "  <thead>\n",
       "    <tr style=\"text-align: right;\">\n",
       "      <th></th>\n",
       "      <th>labels</th>\n",
       "      <th>tweets</th>\n",
       "    </tr>\n",
       "  </thead>\n",
       "  <tbody>\n",
       "    <tr>\n",
       "      <th>311189</th>\n",
       "      <td>0</td>\n",
       "      <td>I can't go on the comp. My mouse broken.</td>\n",
       "    </tr>\n",
       "    <tr>\n",
       "      <th>292729</th>\n",
       "      <td>0</td>\n",
       "      <td>i just washed my car and of course it rained</td>\n",
       "    </tr>\n",
       "    <tr>\n",
       "      <th>275457</th>\n",
       "      <td>0</td>\n",
       "      <td>its going slow so slow learning</td>\n",
       "    </tr>\n",
       "    <tr>\n",
       "      <th>461574</th>\n",
       "      <td>0</td>\n",
       "      <td>I shouldn't be up reading tweets...I have to g...</td>\n",
       "    </tr>\n",
       "    <tr>\n",
       "      <th>912675</th>\n",
       "      <td>1</td>\n",
       "      <td>Home at last HAPPY MOTHERS TO ALL THE MOTHERS ...</td>\n",
       "    </tr>\n",
       "  </tbody>\n",
       "</table>\n",
       "</div>"
      ],
      "text/plain": [
       "        labels                                             tweets\n",
       "311189       0          I can't go on the comp. My mouse broken. \n",
       "292729       0      i just washed my car and of course it rained \n",
       "275457       0                   its going slow so slow learning \n",
       "461574       0  I shouldn't be up reading tweets...I have to g...\n",
       "912675       1  Home at last HAPPY MOTHERS TO ALL THE MOTHERS ..."
      ]
     },
     "execution_count": 8,
     "metadata": {},
     "output_type": "execute_result"
    }
   ],
   "source": [
    "#shuffle the dataset\n",
    "df=df.sample(frac=1)\n",
    "df.head()"
   ]
  },
  {
   "cell_type": "code",
   "execution_count": 9,
   "id": "4562d37d",
   "metadata": {
    "execution": {
     "iopub.execute_input": "2024-11-23T15:23:35.150519Z",
     "iopub.status.busy": "2024-11-23T15:23:35.150241Z",
     "iopub.status.idle": "2024-11-23T15:23:35.157888Z",
     "shell.execute_reply": "2024-11-23T15:23:35.157172Z"
    },
    "papermill": {
     "duration": 0.017533,
     "end_time": "2024-11-23T15:23:35.159685",
     "exception": false,
     "start_time": "2024-11-23T15:23:35.142152",
     "status": "completed"
    },
    "tags": []
   },
   "outputs": [
    {
     "data": {
      "text/html": [
       "<div>\n",
       "<style scoped>\n",
       "    .dataframe tbody tr th:only-of-type {\n",
       "        vertical-align: middle;\n",
       "    }\n",
       "\n",
       "    .dataframe tbody tr th {\n",
       "        vertical-align: top;\n",
       "    }\n",
       "\n",
       "    .dataframe thead th {\n",
       "        text-align: right;\n",
       "    }\n",
       "</style>\n",
       "<table border=\"1\" class=\"dataframe\">\n",
       "  <thead>\n",
       "    <tr style=\"text-align: right;\">\n",
       "      <th></th>\n",
       "      <th>labels</th>\n",
       "      <th>tweets</th>\n",
       "    </tr>\n",
       "  </thead>\n",
       "  <tbody>\n",
       "    <tr>\n",
       "      <th>311189</th>\n",
       "      <td>0</td>\n",
       "      <td>I can't go on the comp. My mouse broken.</td>\n",
       "    </tr>\n",
       "    <tr>\n",
       "      <th>292729</th>\n",
       "      <td>0</td>\n",
       "      <td>i just washed my car and of course it rained</td>\n",
       "    </tr>\n",
       "    <tr>\n",
       "      <th>275457</th>\n",
       "      <td>0</td>\n",
       "      <td>its going slow so slow learning</td>\n",
       "    </tr>\n",
       "    <tr>\n",
       "      <th>461574</th>\n",
       "      <td>0</td>\n",
       "      <td>I shouldn't be up reading tweets...I have to g...</td>\n",
       "    </tr>\n",
       "    <tr>\n",
       "      <th>912675</th>\n",
       "      <td>1</td>\n",
       "      <td>Home at last HAPPY MOTHERS TO ALL THE MOTHERS ...</td>\n",
       "    </tr>\n",
       "  </tbody>\n",
       "</table>\n",
       "</div>"
      ],
      "text/plain": [
       "        labels                                             tweets\n",
       "311189       0          I can't go on the comp. My mouse broken. \n",
       "292729       0      i just washed my car and of course it rained \n",
       "275457       0                   its going slow so slow learning \n",
       "461574       0  I shouldn't be up reading tweets...I have to g...\n",
       "912675       1  Home at last HAPPY MOTHERS TO ALL THE MOTHERS ..."
      ]
     },
     "execution_count": 9,
     "metadata": {},
     "output_type": "execute_result"
    }
   ],
   "source": [
    "df=df.head(20000)\n",
    "df.head()"
   ]
  },
  {
   "cell_type": "code",
   "execution_count": 10,
   "id": "0929b6ef",
   "metadata": {
    "execution": {
     "iopub.execute_input": "2024-11-23T15:23:35.175980Z",
     "iopub.status.busy": "2024-11-23T15:23:35.175713Z",
     "iopub.status.idle": "2024-11-23T15:23:35.180775Z",
     "shell.execute_reply": "2024-11-23T15:23:35.179991Z"
    },
    "papermill": {
     "duration": 0.015026,
     "end_time": "2024-11-23T15:23:35.182409",
     "exception": false,
     "start_time": "2024-11-23T15:23:35.167383",
     "status": "completed"
    },
    "tags": []
   },
   "outputs": [
    {
     "data": {
      "text/plain": [
       "\"I can't go on the comp. My mouse broken. \""
      ]
     },
     "execution_count": 10,
     "metadata": {},
     "output_type": "execute_result"
    }
   ],
   "source": [
    "df['tweets'].values[0]"
   ]
  },
  {
   "cell_type": "code",
   "execution_count": 11,
   "id": "135efcf4",
   "metadata": {
    "execution": {
     "iopub.execute_input": "2024-11-23T15:23:35.198653Z",
     "iopub.status.busy": "2024-11-23T15:23:35.198139Z",
     "iopub.status.idle": "2024-11-23T15:23:43.666850Z",
     "shell.execute_reply": "2024-11-23T15:23:43.665974Z"
    },
    "papermill": {
     "duration": 8.478861,
     "end_time": "2024-11-23T15:23:43.668827",
     "exception": false,
     "start_time": "2024-11-23T15:23:35.189966",
     "status": "completed"
    },
    "tags": []
   },
   "outputs": [
    {
     "name": "stdout",
     "output_type": "stream",
     "text": [
      "[nltk_data] Downloading package stopwords to /usr/share/nltk_data...\n",
      "[nltk_data]   Package stopwords is already up-to-date!\n"
     ]
    }
   ],
   "source": [
    "import re\n",
    "import spacy\n",
    "import nltk\n",
    "from nltk.corpus import stopwords\n",
    "nlp=spacy.load('en_core_web_sm')\n",
    "nltk.download('stopwords')\n",
    "\n",
    "stop_words=stopwords.words('english')"
   ]
  },
  {
   "cell_type": "code",
   "execution_count": 12,
   "id": "6602e0c6",
   "metadata": {
    "execution": {
     "iopub.execute_input": "2024-11-23T15:23:43.685774Z",
     "iopub.status.busy": "2024-11-23T15:23:43.685268Z",
     "iopub.status.idle": "2024-11-23T15:23:43.691040Z",
     "shell.execute_reply": "2024-11-23T15:23:43.690227Z"
    },
    "papermill": {
     "duration": 0.015842,
     "end_time": "2024-11-23T15:23:43.692629",
     "exception": false,
     "start_time": "2024-11-23T15:23:43.676787",
     "status": "completed"
    },
    "tags": []
   },
   "outputs": [],
   "source": [
    "def preprocessed_tweet(tweet):\n",
    "    tweet=tweet.lower()\n",
    "    tweet=re.sub(r\"http\\S+|www|S+|https\\S+\",'',tweet,flags=re.MULTILINE)\n",
    "    tweet=re.sub(r\"@\\w+\",'',tweet)\n",
    "    tweet=re.sub(r\"^w\\s#\",'',tweet)\n",
    "\n",
    "    tokens=[token.lemma_ for token in nlp(tweet)]\n",
    "    tokens=[token for token in tokens if token not in stop_words]\n",
    "    tokens=[token for token in tokens if len(token)>1]\n",
    "    preprocessed_tweet=' '.join(tokens)\n",
    "    \n",
    "    \n",
    "    return preprocessed_tweet\n",
    "    "
   ]
  },
  {
   "cell_type": "code",
   "execution_count": 13,
   "id": "dca90a4c",
   "metadata": {
    "execution": {
     "iopub.execute_input": "2024-11-23T15:23:43.708842Z",
     "iopub.status.busy": "2024-11-23T15:23:43.708585Z",
     "iopub.status.idle": "2024-11-23T15:25:41.409980Z",
     "shell.execute_reply": "2024-11-23T15:25:41.409181Z"
    },
    "papermill": {
     "duration": 117.711859,
     "end_time": "2024-11-23T15:25:41.412110",
     "exception": false,
     "start_time": "2024-11-23T15:23:43.700251",
     "status": "completed"
    },
    "tags": []
   },
   "outputs": [],
   "source": [
    "df['clean_tweets']=[preprocessed_tweet(tw) for tw in df['tweets']]"
   ]
  },
  {
   "cell_type": "code",
   "execution_count": 14,
   "id": "3afc24f0",
   "metadata": {
    "execution": {
     "iopub.execute_input": "2024-11-23T15:25:41.429185Z",
     "iopub.status.busy": "2024-11-23T15:25:41.428904Z",
     "iopub.status.idle": "2024-11-23T15:25:41.437312Z",
     "shell.execute_reply": "2024-11-23T15:25:41.436467Z"
    },
    "papermill": {
     "duration": 0.018455,
     "end_time": "2024-11-23T15:25:41.438874",
     "exception": false,
     "start_time": "2024-11-23T15:25:41.420419",
     "status": "completed"
    },
    "tags": []
   },
   "outputs": [
    {
     "data": {
      "text/html": [
       "<div>\n",
       "<style scoped>\n",
       "    .dataframe tbody tr th:only-of-type {\n",
       "        vertical-align: middle;\n",
       "    }\n",
       "\n",
       "    .dataframe tbody tr th {\n",
       "        vertical-align: top;\n",
       "    }\n",
       "\n",
       "    .dataframe thead th {\n",
       "        text-align: right;\n",
       "    }\n",
       "</style>\n",
       "<table border=\"1\" class=\"dataframe\">\n",
       "  <thead>\n",
       "    <tr style=\"text-align: right;\">\n",
       "      <th></th>\n",
       "      <th>labels</th>\n",
       "      <th>tweets</th>\n",
       "      <th>clean_tweets</th>\n",
       "    </tr>\n",
       "  </thead>\n",
       "  <tbody>\n",
       "    <tr>\n",
       "      <th>311189</th>\n",
       "      <td>0</td>\n",
       "      <td>I can't go on the comp. My mouse broken.</td>\n",
       "      <td>go comp mouse break</td>\n",
       "    </tr>\n",
       "    <tr>\n",
       "      <th>292729</th>\n",
       "      <td>0</td>\n",
       "      <td>i just washed my car and of course it rained</td>\n",
       "      <td>wash car course rain</td>\n",
       "    </tr>\n",
       "    <tr>\n",
       "      <th>275457</th>\n",
       "      <td>0</td>\n",
       "      <td>its going slow so slow learning</td>\n",
       "      <td>go slow slow learn</td>\n",
       "    </tr>\n",
       "    <tr>\n",
       "      <th>461574</th>\n",
       "      <td>0</td>\n",
       "      <td>I shouldn't be up reading tweets...I have to g...</td>\n",
       "      <td>read tweet ... get early agileroot ... get</td>\n",
       "    </tr>\n",
       "    <tr>\n",
       "      <th>912675</th>\n",
       "      <td>1</td>\n",
       "      <td>Home at last HAPPY MOTHERS TO ALL THE MOTHERS ...</td>\n",
       "      <td>home last happy mother mother special thank fa...</td>\n",
       "    </tr>\n",
       "  </tbody>\n",
       "</table>\n",
       "</div>"
      ],
      "text/plain": [
       "        labels                                             tweets  \\\n",
       "311189       0          I can't go on the comp. My mouse broken.    \n",
       "292729       0      i just washed my car and of course it rained    \n",
       "275457       0                   its going slow so slow learning    \n",
       "461574       0  I shouldn't be up reading tweets...I have to g...   \n",
       "912675       1  Home at last HAPPY MOTHERS TO ALL THE MOTHERS ...   \n",
       "\n",
       "                                             clean_tweets  \n",
       "311189                                go comp mouse break  \n",
       "292729                               wash car course rain  \n",
       "275457                                 go slow slow learn  \n",
       "461574         read tweet ... get early agileroot ... get  \n",
       "912675  home last happy mother mother special thank fa...  "
      ]
     },
     "execution_count": 14,
     "metadata": {},
     "output_type": "execute_result"
    }
   ],
   "source": [
    "df.head()"
   ]
  },
  {
   "cell_type": "code",
   "execution_count": 15,
   "id": "d2cba3ee",
   "metadata": {
    "execution": {
     "iopub.execute_input": "2024-11-23T15:25:41.455428Z",
     "iopub.status.busy": "2024-11-23T15:25:41.454976Z",
     "iopub.status.idle": "2024-11-23T15:25:41.459014Z",
     "shell.execute_reply": "2024-11-23T15:25:41.458203Z"
    },
    "papermill": {
     "duration": 0.013891,
     "end_time": "2024-11-23T15:25:41.460530",
     "exception": false,
     "start_time": "2024-11-23T15:25:41.446639",
     "status": "completed"
    },
    "tags": []
   },
   "outputs": [],
   "source": [
    "def get_word_len(tweet):\n",
    "    return len(tweet.split(' '))\n",
    "\n",
    "def get_char_len(tweet):\n",
    "    return len(tweet)"
   ]
  },
  {
   "cell_type": "code",
   "execution_count": 16,
   "id": "966b2d5a",
   "metadata": {
    "execution": {
     "iopub.execute_input": "2024-11-23T15:25:41.476866Z",
     "iopub.status.busy": "2024-11-23T15:25:41.476368Z",
     "iopub.status.idle": "2024-11-23T15:25:41.501468Z",
     "shell.execute_reply": "2024-11-23T15:25:41.500701Z"
    },
    "papermill": {
     "duration": 0.034996,
     "end_time": "2024-11-23T15:25:41.503155",
     "exception": false,
     "start_time": "2024-11-23T15:25:41.468159",
     "status": "completed"
    },
    "tags": []
   },
   "outputs": [],
   "source": [
    "df['tweet_word_len']=df['clean_tweets'].apply(get_word_len)\n",
    "df['tweet_char_len']=df['clean_tweets'].apply(get_char_len)"
   ]
  },
  {
   "cell_type": "code",
   "execution_count": 17,
   "id": "a82673ba",
   "metadata": {
    "execution": {
     "iopub.execute_input": "2024-11-23T15:25:41.519876Z",
     "iopub.status.busy": "2024-11-23T15:25:41.519254Z",
     "iopub.status.idle": "2024-11-23T15:25:41.528180Z",
     "shell.execute_reply": "2024-11-23T15:25:41.527456Z"
    },
    "papermill": {
     "duration": 0.018737,
     "end_time": "2024-11-23T15:25:41.529713",
     "exception": false,
     "start_time": "2024-11-23T15:25:41.510976",
     "status": "completed"
    },
    "tags": []
   },
   "outputs": [
    {
     "data": {
      "text/html": [
       "<div>\n",
       "<style scoped>\n",
       "    .dataframe tbody tr th:only-of-type {\n",
       "        vertical-align: middle;\n",
       "    }\n",
       "\n",
       "    .dataframe tbody tr th {\n",
       "        vertical-align: top;\n",
       "    }\n",
       "\n",
       "    .dataframe thead th {\n",
       "        text-align: right;\n",
       "    }\n",
       "</style>\n",
       "<table border=\"1\" class=\"dataframe\">\n",
       "  <thead>\n",
       "    <tr style=\"text-align: right;\">\n",
       "      <th></th>\n",
       "      <th>labels</th>\n",
       "      <th>tweets</th>\n",
       "      <th>clean_tweets</th>\n",
       "      <th>tweet_word_len</th>\n",
       "      <th>tweet_char_len</th>\n",
       "    </tr>\n",
       "  </thead>\n",
       "  <tbody>\n",
       "    <tr>\n",
       "      <th>311189</th>\n",
       "      <td>0</td>\n",
       "      <td>I can't go on the comp. My mouse broken.</td>\n",
       "      <td>go comp mouse break</td>\n",
       "      <td>4</td>\n",
       "      <td>19</td>\n",
       "    </tr>\n",
       "    <tr>\n",
       "      <th>292729</th>\n",
       "      <td>0</td>\n",
       "      <td>i just washed my car and of course it rained</td>\n",
       "      <td>wash car course rain</td>\n",
       "      <td>4</td>\n",
       "      <td>20</td>\n",
       "    </tr>\n",
       "    <tr>\n",
       "      <th>275457</th>\n",
       "      <td>0</td>\n",
       "      <td>its going slow so slow learning</td>\n",
       "      <td>go slow slow learn</td>\n",
       "      <td>4</td>\n",
       "      <td>18</td>\n",
       "    </tr>\n",
       "    <tr>\n",
       "      <th>461574</th>\n",
       "      <td>0</td>\n",
       "      <td>I shouldn't be up reading tweets...I have to g...</td>\n",
       "      <td>read tweet ... get early agileroot ... get</td>\n",
       "      <td>8</td>\n",
       "      <td>42</td>\n",
       "    </tr>\n",
       "    <tr>\n",
       "      <th>912675</th>\n",
       "      <td>1</td>\n",
       "      <td>Home at last HAPPY MOTHERS TO ALL THE MOTHERS ...</td>\n",
       "      <td>home last happy mother mother special thank fa...</td>\n",
       "      <td>15</td>\n",
       "      <td>91</td>\n",
       "    </tr>\n",
       "  </tbody>\n",
       "</table>\n",
       "</div>"
      ],
      "text/plain": [
       "        labels                                             tweets  \\\n",
       "311189       0          I can't go on the comp. My mouse broken.    \n",
       "292729       0      i just washed my car and of course it rained    \n",
       "275457       0                   its going slow so slow learning    \n",
       "461574       0  I shouldn't be up reading tweets...I have to g...   \n",
       "912675       1  Home at last HAPPY MOTHERS TO ALL THE MOTHERS ...   \n",
       "\n",
       "                                             clean_tweets  tweet_word_len  \\\n",
       "311189                                go comp mouse break               4   \n",
       "292729                               wash car course rain               4   \n",
       "275457                                 go slow slow learn               4   \n",
       "461574         read tweet ... get early agileroot ... get               8   \n",
       "912675  home last happy mother mother special thank fa...              15   \n",
       "\n",
       "        tweet_char_len  \n",
       "311189              19  \n",
       "292729              20  \n",
       "275457              18  \n",
       "461574              42  \n",
       "912675              91  "
      ]
     },
     "execution_count": 17,
     "metadata": {},
     "output_type": "execute_result"
    }
   ],
   "source": [
    "df.head()"
   ]
  },
  {
   "cell_type": "code",
   "execution_count": 18,
   "id": "c6d6d45e",
   "metadata": {
    "execution": {
     "iopub.execute_input": "2024-11-23T15:25:41.546526Z",
     "iopub.status.busy": "2024-11-23T15:25:41.545839Z",
     "iopub.status.idle": "2024-11-23T15:25:42.881273Z",
     "shell.execute_reply": "2024-11-23T15:25:42.880340Z"
    },
    "papermill": {
     "duration": 1.345842,
     "end_time": "2024-11-23T15:25:42.883326",
     "exception": false,
     "start_time": "2024-11-23T15:25:41.537484",
     "status": "completed"
    },
    "tags": []
   },
   "outputs": [],
   "source": [
    "import seaborn as sns\n",
    "import matplotlib.pyplot as plt\n",
    "import plotly.express as ps\n",
    "import plotly.figure_factory as ff\n",
    "from plotly.subplots import make_subplots\n",
    "\n"
   ]
  },
  {
   "cell_type": "code",
   "execution_count": 19,
   "id": "b63f6cb1",
   "metadata": {
    "execution": {
     "iopub.execute_input": "2024-11-23T15:25:42.900944Z",
     "iopub.status.busy": "2024-11-23T15:25:42.900213Z",
     "iopub.status.idle": "2024-11-23T15:25:42.909568Z",
     "shell.execute_reply": "2024-11-23T15:25:42.908772Z"
    },
    "papermill": {
     "duration": 0.019723,
     "end_time": "2024-11-23T15:25:42.911249",
     "exception": false,
     "start_time": "2024-11-23T15:25:42.891526",
     "status": "completed"
    },
    "tags": []
   },
   "outputs": [],
   "source": [
    "positive_counts=len(df[df['labels']==1])\n",
    "negative_counts=len(df[df['labels']==0])"
   ]
  },
  {
   "cell_type": "code",
   "execution_count": 20,
   "id": "258a458c",
   "metadata": {
    "execution": {
     "iopub.execute_input": "2024-11-23T15:25:42.927856Z",
     "iopub.status.busy": "2024-11-23T15:25:42.927552Z",
     "iopub.status.idle": "2024-11-23T15:25:44.018414Z",
     "shell.execute_reply": "2024-11-23T15:25:44.017620Z"
    },
    "papermill": {
     "duration": 1.10126,
     "end_time": "2024-11-23T15:25:44.020222",
     "exception": false,
     "start_time": "2024-11-23T15:25:42.918962",
     "status": "completed"
    },
    "tags": []
   },
   "outputs": [
    {
     "data": {
      "text/html": [
       "        <script type=\"text/javascript\">\n",
       "        window.PlotlyConfig = {MathJaxConfig: 'local'};\n",
       "        if (window.MathJax && window.MathJax.Hub && window.MathJax.Hub.Config) {window.MathJax.Hub.Config({SVG: {font: \"STIX-Web\"}});}\n",
       "        if (typeof require !== 'undefined') {\n",
       "        require.undef(\"plotly\");\n",
       "        requirejs.config({\n",
       "            paths: {\n",
       "                'plotly': ['https://cdn.plot.ly/plotly-2.32.0.min']\n",
       "            }\n",
       "        });\n",
       "        require(['plotly'], function(Plotly) {\n",
       "            window._Plotly = Plotly;\n",
       "        });\n",
       "        }\n",
       "        </script>\n",
       "        "
      ]
     },
     "metadata": {},
     "output_type": "display_data"
    },
    {
     "data": {
      "text/html": [
       "<div>                            <div id=\"726bad94-3211-4341-83c8-6c3a9a5b4afd\" class=\"plotly-graph-div\" style=\"height:525px; width:100%;\"></div>            <script type=\"text/javascript\">                require([\"plotly\"], function(Plotly) {                    window.PLOTLYENV=window.PLOTLYENV || {};                                    if (document.getElementById(\"726bad94-3211-4341-83c8-6c3a9a5b4afd\")) {                    Plotly.newPlot(                        \"726bad94-3211-4341-83c8-6c3a9a5b4afd\",                        [{\"domain\":{\"x\":[0.0,1.0],\"y\":[0.0,1.0]},\"hovertemplate\":\"value=%{value}\\u003cextra\\u003e\\u003c\\u002fextra\\u003e\",\"legendgroup\":\"\",\"name\":\"\",\"showlegend\":false,\"values\":[10073,9927],\"type\":\"pie\"}],                        {\"template\":{\"data\":{\"barpolar\":[{\"marker\":{\"line\":{\"color\":\"white\",\"width\":0.5},\"pattern\":{\"fillmode\":\"overlay\",\"size\":10,\"solidity\":0.2}},\"type\":\"barpolar\"}],\"bar\":[{\"error_x\":{\"color\":\"rgb(36,36,36)\"},\"error_y\":{\"color\":\"rgb(36,36,36)\"},\"marker\":{\"line\":{\"color\":\"white\",\"width\":0.5},\"pattern\":{\"fillmode\":\"overlay\",\"size\":10,\"solidity\":0.2}},\"type\":\"bar\"}],\"carpet\":[{\"aaxis\":{\"endlinecolor\":\"rgb(36,36,36)\",\"gridcolor\":\"white\",\"linecolor\":\"white\",\"minorgridcolor\":\"white\",\"startlinecolor\":\"rgb(36,36,36)\"},\"baxis\":{\"endlinecolor\":\"rgb(36,36,36)\",\"gridcolor\":\"white\",\"linecolor\":\"white\",\"minorgridcolor\":\"white\",\"startlinecolor\":\"rgb(36,36,36)\"},\"type\":\"carpet\"}],\"choropleth\":[{\"colorbar\":{\"outlinewidth\":1,\"tickcolor\":\"rgb(36,36,36)\",\"ticks\":\"outside\"},\"type\":\"choropleth\"}],\"contourcarpet\":[{\"colorbar\":{\"outlinewidth\":1,\"tickcolor\":\"rgb(36,36,36)\",\"ticks\":\"outside\"},\"type\":\"contourcarpet\"}],\"contour\":[{\"colorbar\":{\"outlinewidth\":1,\"tickcolor\":\"rgb(36,36,36)\",\"ticks\":\"outside\"},\"colorscale\":[[0.0,\"#440154\"],[0.1111111111111111,\"#482878\"],[0.2222222222222222,\"#3e4989\"],[0.3333333333333333,\"#31688e\"],[0.4444444444444444,\"#26828e\"],[0.5555555555555556,\"#1f9e89\"],[0.6666666666666666,\"#35b779\"],[0.7777777777777778,\"#6ece58\"],[0.8888888888888888,\"#b5de2b\"],[1.0,\"#fde725\"]],\"type\":\"contour\"}],\"heatmapgl\":[{\"colorbar\":{\"outlinewidth\":1,\"tickcolor\":\"rgb(36,36,36)\",\"ticks\":\"outside\"},\"colorscale\":[[0.0,\"#440154\"],[0.1111111111111111,\"#482878\"],[0.2222222222222222,\"#3e4989\"],[0.3333333333333333,\"#31688e\"],[0.4444444444444444,\"#26828e\"],[0.5555555555555556,\"#1f9e89\"],[0.6666666666666666,\"#35b779\"],[0.7777777777777778,\"#6ece58\"],[0.8888888888888888,\"#b5de2b\"],[1.0,\"#fde725\"]],\"type\":\"heatmapgl\"}],\"heatmap\":[{\"colorbar\":{\"outlinewidth\":1,\"tickcolor\":\"rgb(36,36,36)\",\"ticks\":\"outside\"},\"colorscale\":[[0.0,\"#440154\"],[0.1111111111111111,\"#482878\"],[0.2222222222222222,\"#3e4989\"],[0.3333333333333333,\"#31688e\"],[0.4444444444444444,\"#26828e\"],[0.5555555555555556,\"#1f9e89\"],[0.6666666666666666,\"#35b779\"],[0.7777777777777778,\"#6ece58\"],[0.8888888888888888,\"#b5de2b\"],[1.0,\"#fde725\"]],\"type\":\"heatmap\"}],\"histogram2dcontour\":[{\"colorbar\":{\"outlinewidth\":1,\"tickcolor\":\"rgb(36,36,36)\",\"ticks\":\"outside\"},\"colorscale\":[[0.0,\"#440154\"],[0.1111111111111111,\"#482878\"],[0.2222222222222222,\"#3e4989\"],[0.3333333333333333,\"#31688e\"],[0.4444444444444444,\"#26828e\"],[0.5555555555555556,\"#1f9e89\"],[0.6666666666666666,\"#35b779\"],[0.7777777777777778,\"#6ece58\"],[0.8888888888888888,\"#b5de2b\"],[1.0,\"#fde725\"]],\"type\":\"histogram2dcontour\"}],\"histogram2d\":[{\"colorbar\":{\"outlinewidth\":1,\"tickcolor\":\"rgb(36,36,36)\",\"ticks\":\"outside\"},\"colorscale\":[[0.0,\"#440154\"],[0.1111111111111111,\"#482878\"],[0.2222222222222222,\"#3e4989\"],[0.3333333333333333,\"#31688e\"],[0.4444444444444444,\"#26828e\"],[0.5555555555555556,\"#1f9e89\"],[0.6666666666666666,\"#35b779\"],[0.7777777777777778,\"#6ece58\"],[0.8888888888888888,\"#b5de2b\"],[1.0,\"#fde725\"]],\"type\":\"histogram2d\"}],\"histogram\":[{\"marker\":{\"line\":{\"color\":\"white\",\"width\":0.6}},\"type\":\"histogram\"}],\"mesh3d\":[{\"colorbar\":{\"outlinewidth\":1,\"tickcolor\":\"rgb(36,36,36)\",\"ticks\":\"outside\"},\"type\":\"mesh3d\"}],\"parcoords\":[{\"line\":{\"colorbar\":{\"outlinewidth\":1,\"tickcolor\":\"rgb(36,36,36)\",\"ticks\":\"outside\"}},\"type\":\"parcoords\"}],\"pie\":[{\"automargin\":true,\"type\":\"pie\"}],\"scatter3d\":[{\"line\":{\"colorbar\":{\"outlinewidth\":1,\"tickcolor\":\"rgb(36,36,36)\",\"ticks\":\"outside\"}},\"marker\":{\"colorbar\":{\"outlinewidth\":1,\"tickcolor\":\"rgb(36,36,36)\",\"ticks\":\"outside\"}},\"type\":\"scatter3d\"}],\"scattercarpet\":[{\"marker\":{\"colorbar\":{\"outlinewidth\":1,\"tickcolor\":\"rgb(36,36,36)\",\"ticks\":\"outside\"}},\"type\":\"scattercarpet\"}],\"scattergeo\":[{\"marker\":{\"colorbar\":{\"outlinewidth\":1,\"tickcolor\":\"rgb(36,36,36)\",\"ticks\":\"outside\"}},\"type\":\"scattergeo\"}],\"scattergl\":[{\"marker\":{\"colorbar\":{\"outlinewidth\":1,\"tickcolor\":\"rgb(36,36,36)\",\"ticks\":\"outside\"}},\"type\":\"scattergl\"}],\"scattermapbox\":[{\"marker\":{\"colorbar\":{\"outlinewidth\":1,\"tickcolor\":\"rgb(36,36,36)\",\"ticks\":\"outside\"}},\"type\":\"scattermapbox\"}],\"scatterpolargl\":[{\"marker\":{\"colorbar\":{\"outlinewidth\":1,\"tickcolor\":\"rgb(36,36,36)\",\"ticks\":\"outside\"}},\"type\":\"scatterpolargl\"}],\"scatterpolar\":[{\"marker\":{\"colorbar\":{\"outlinewidth\":1,\"tickcolor\":\"rgb(36,36,36)\",\"ticks\":\"outside\"}},\"type\":\"scatterpolar\"}],\"scatter\":[{\"fillpattern\":{\"fillmode\":\"overlay\",\"size\":10,\"solidity\":0.2},\"type\":\"scatter\"}],\"scatterternary\":[{\"marker\":{\"colorbar\":{\"outlinewidth\":1,\"tickcolor\":\"rgb(36,36,36)\",\"ticks\":\"outside\"}},\"type\":\"scatterternary\"}],\"surface\":[{\"colorbar\":{\"outlinewidth\":1,\"tickcolor\":\"rgb(36,36,36)\",\"ticks\":\"outside\"},\"colorscale\":[[0.0,\"#440154\"],[0.1111111111111111,\"#482878\"],[0.2222222222222222,\"#3e4989\"],[0.3333333333333333,\"#31688e\"],[0.4444444444444444,\"#26828e\"],[0.5555555555555556,\"#1f9e89\"],[0.6666666666666666,\"#35b779\"],[0.7777777777777778,\"#6ece58\"],[0.8888888888888888,\"#b5de2b\"],[1.0,\"#fde725\"]],\"type\":\"surface\"}],\"table\":[{\"cells\":{\"fill\":{\"color\":\"rgb(237,237,237)\"},\"line\":{\"color\":\"white\"}},\"header\":{\"fill\":{\"color\":\"rgb(217,217,217)\"},\"line\":{\"color\":\"white\"}},\"type\":\"table\"}]},\"layout\":{\"annotationdefaults\":{\"arrowhead\":0,\"arrowwidth\":1},\"autotypenumbers\":\"strict\",\"coloraxis\":{\"colorbar\":{\"outlinewidth\":1,\"tickcolor\":\"rgb(36,36,36)\",\"ticks\":\"outside\"}},\"colorscale\":{\"diverging\":[[0.0,\"rgb(103,0,31)\"],[0.1,\"rgb(178,24,43)\"],[0.2,\"rgb(214,96,77)\"],[0.3,\"rgb(244,165,130)\"],[0.4,\"rgb(253,219,199)\"],[0.5,\"rgb(247,247,247)\"],[0.6,\"rgb(209,229,240)\"],[0.7,\"rgb(146,197,222)\"],[0.8,\"rgb(67,147,195)\"],[0.9,\"rgb(33,102,172)\"],[1.0,\"rgb(5,48,97)\"]],\"sequential\":[[0.0,\"#440154\"],[0.1111111111111111,\"#482878\"],[0.2222222222222222,\"#3e4989\"],[0.3333333333333333,\"#31688e\"],[0.4444444444444444,\"#26828e\"],[0.5555555555555556,\"#1f9e89\"],[0.6666666666666666,\"#35b779\"],[0.7777777777777778,\"#6ece58\"],[0.8888888888888888,\"#b5de2b\"],[1.0,\"#fde725\"]],\"sequentialminus\":[[0.0,\"#440154\"],[0.1111111111111111,\"#482878\"],[0.2222222222222222,\"#3e4989\"],[0.3333333333333333,\"#31688e\"],[0.4444444444444444,\"#26828e\"],[0.5555555555555556,\"#1f9e89\"],[0.6666666666666666,\"#35b779\"],[0.7777777777777778,\"#6ece58\"],[0.8888888888888888,\"#b5de2b\"],[1.0,\"#fde725\"]]},\"colorway\":[\"#1F77B4\",\"#FF7F0E\",\"#2CA02C\",\"#D62728\",\"#9467BD\",\"#8C564B\",\"#E377C2\",\"#7F7F7F\",\"#BCBD22\",\"#17BECF\"],\"font\":{\"color\":\"rgb(36,36,36)\"},\"geo\":{\"bgcolor\":\"white\",\"lakecolor\":\"white\",\"landcolor\":\"white\",\"showlakes\":true,\"showland\":true,\"subunitcolor\":\"white\"},\"hoverlabel\":{\"align\":\"left\"},\"hovermode\":\"closest\",\"mapbox\":{\"style\":\"light\"},\"paper_bgcolor\":\"white\",\"plot_bgcolor\":\"white\",\"polar\":{\"angularaxis\":{\"gridcolor\":\"rgb(232,232,232)\",\"linecolor\":\"rgb(36,36,36)\",\"showgrid\":false,\"showline\":true,\"ticks\":\"outside\"},\"bgcolor\":\"white\",\"radialaxis\":{\"gridcolor\":\"rgb(232,232,232)\",\"linecolor\":\"rgb(36,36,36)\",\"showgrid\":false,\"showline\":true,\"ticks\":\"outside\"}},\"scene\":{\"xaxis\":{\"backgroundcolor\":\"white\",\"gridcolor\":\"rgb(232,232,232)\",\"gridwidth\":2,\"linecolor\":\"rgb(36,36,36)\",\"showbackground\":true,\"showgrid\":false,\"showline\":true,\"ticks\":\"outside\",\"zeroline\":false,\"zerolinecolor\":\"rgb(36,36,36)\"},\"yaxis\":{\"backgroundcolor\":\"white\",\"gridcolor\":\"rgb(232,232,232)\",\"gridwidth\":2,\"linecolor\":\"rgb(36,36,36)\",\"showbackground\":true,\"showgrid\":false,\"showline\":true,\"ticks\":\"outside\",\"zeroline\":false,\"zerolinecolor\":\"rgb(36,36,36)\"},\"zaxis\":{\"backgroundcolor\":\"white\",\"gridcolor\":\"rgb(232,232,232)\",\"gridwidth\":2,\"linecolor\":\"rgb(36,36,36)\",\"showbackground\":true,\"showgrid\":false,\"showline\":true,\"ticks\":\"outside\",\"zeroline\":false,\"zerolinecolor\":\"rgb(36,36,36)\"}},\"shapedefaults\":{\"fillcolor\":\"black\",\"line\":{\"width\":0},\"opacity\":0.3},\"ternary\":{\"aaxis\":{\"gridcolor\":\"rgb(232,232,232)\",\"linecolor\":\"rgb(36,36,36)\",\"showgrid\":false,\"showline\":true,\"ticks\":\"outside\"},\"baxis\":{\"gridcolor\":\"rgb(232,232,232)\",\"linecolor\":\"rgb(36,36,36)\",\"showgrid\":false,\"showline\":true,\"ticks\":\"outside\"},\"bgcolor\":\"white\",\"caxis\":{\"gridcolor\":\"rgb(232,232,232)\",\"linecolor\":\"rgb(36,36,36)\",\"showgrid\":false,\"showline\":true,\"ticks\":\"outside\"}},\"title\":{\"x\":0.05},\"xaxis\":{\"automargin\":true,\"gridcolor\":\"rgb(232,232,232)\",\"linecolor\":\"rgb(36,36,36)\",\"showgrid\":false,\"showline\":true,\"ticks\":\"outside\",\"title\":{\"standoff\":15},\"zeroline\":false,\"zerolinecolor\":\"rgb(36,36,36)\"},\"yaxis\":{\"automargin\":true,\"gridcolor\":\"rgb(232,232,232)\",\"linecolor\":\"rgb(36,36,36)\",\"showgrid\":false,\"showline\":true,\"ticks\":\"outside\",\"title\":{\"standoff\":15},\"zeroline\":false,\"zerolinecolor\":\"rgb(36,36,36)\"}}},\"legend\":{\"tracegroupgap\":0},\"title\":{\"text\":\"Distribution of Sentimenets of tweets\"}},                        {\"responsive\": true}                    ).then(function(){\n",
       "                            \n",
       "var gd = document.getElementById('726bad94-3211-4341-83c8-6c3a9a5b4afd');\n",
       "var x = new MutationObserver(function (mutations, observer) {{\n",
       "        var display = window.getComputedStyle(gd).display;\n",
       "        if (!display || display === 'none') {{\n",
       "            console.log([gd, 'removed!']);\n",
       "            Plotly.purge(gd);\n",
       "            observer.disconnect();\n",
       "        }}\n",
       "}});\n",
       "\n",
       "// Listen for the removal of the full notebook cells\n",
       "var notebookContainer = gd.closest('#notebook-container');\n",
       "if (notebookContainer) {{\n",
       "    x.observe(notebookContainer, {childList: true});\n",
       "}}\n",
       "\n",
       "// Listen for the clearing of the current output cell\n",
       "var outputEl = gd.closest('.output');\n",
       "if (outputEl) {{\n",
       "    x.observe(outputEl, {childList: true});\n",
       "}}\n",
       "\n",
       "                        })                };                });            </script>        </div>"
      ]
     },
     "metadata": {},
     "output_type": "display_data"
    }
   ],
   "source": [
    "fig=ps.pie(values=[positive_counts,negative_counts],title=\"Distribution of Sentimenets of tweets\",template='simple_white')\n",
    "fig.show()"
   ]
  },
  {
   "cell_type": "code",
   "execution_count": 21,
   "id": "3246415f",
   "metadata": {
    "execution": {
     "iopub.execute_input": "2024-11-23T15:25:44.038297Z",
     "iopub.status.busy": "2024-11-23T15:25:44.038019Z",
     "iopub.status.idle": "2024-11-23T15:25:44.045466Z",
     "shell.execute_reply": "2024-11-23T15:25:44.044903Z"
    },
    "papermill": {
     "duration": 0.018302,
     "end_time": "2024-11-23T15:25:44.047078",
     "exception": false,
     "start_time": "2024-11-23T15:25:44.028776",
     "status": "completed"
    },
    "tags": []
   },
   "outputs": [],
   "source": [
    "from sklearn.model_selection import train_test_split\n",
    "xtrain,xtest,ytrain,ytest=train_test_split(df['clean_tweets'],df['labels'],test_size=0.2,random_state=42)"
   ]
  },
  {
   "cell_type": "code",
   "execution_count": 22,
   "id": "3245dd48",
   "metadata": {
    "execution": {
     "iopub.execute_input": "2024-11-23T15:25:44.064704Z",
     "iopub.status.busy": "2024-11-23T15:25:44.064136Z",
     "iopub.status.idle": "2024-11-23T15:25:44.068952Z",
     "shell.execute_reply": "2024-11-23T15:25:44.068359Z"
    },
    "papermill": {
     "duration": 0.015112,
     "end_time": "2024-11-23T15:25:44.070523",
     "exception": false,
     "start_time": "2024-11-23T15:25:44.055411",
     "status": "completed"
    },
    "tags": []
   },
   "outputs": [],
   "source": [
    "x_test,x_val,y_test,y_val=train_test_split(xtest,ytest,test_size=0.5)\n"
   ]
  },
  {
   "cell_type": "code",
   "execution_count": 23,
   "id": "797a039d",
   "metadata": {
    "execution": {
     "iopub.execute_input": "2024-11-23T15:25:44.087717Z",
     "iopub.status.busy": "2024-11-23T15:25:44.087181Z",
     "iopub.status.idle": "2024-11-23T15:25:44.090706Z",
     "shell.execute_reply": "2024-11-23T15:25:44.089957Z"
    },
    "papermill": {
     "duration": 0.013635,
     "end_time": "2024-11-23T15:25:44.092213",
     "exception": false,
     "start_time": "2024-11-23T15:25:44.078578",
     "status": "completed"
    },
    "tags": []
   },
   "outputs": [],
   "source": [
    "from sklearn.feature_extraction.text import CountVectorizer,TfidfVectorizer\n"
   ]
  },
  {
   "cell_type": "code",
   "execution_count": 24,
   "id": "7fdede1b",
   "metadata": {
    "execution": {
     "iopub.execute_input": "2024-11-23T15:25:44.109234Z",
     "iopub.status.busy": "2024-11-23T15:25:44.108986Z",
     "iopub.status.idle": "2024-11-23T15:25:44.772814Z",
     "shell.execute_reply": "2024-11-23T15:25:44.772039Z"
    },
    "papermill": {
     "duration": 0.674669,
     "end_time": "2024-11-23T15:25:44.774926",
     "exception": false,
     "start_time": "2024-11-23T15:25:44.100257",
     "status": "completed"
    },
    "tags": []
   },
   "outputs": [],
   "source": [
    "vec=CountVectorizer(binary=True)\n",
    "vec=vec.fit(df['clean_tweets'])\n",
    "enc_tweets=vec.fit_transform(df['clean_tweets']).toarray()"
   ]
  },
  {
   "cell_type": "code",
   "execution_count": 25,
   "id": "f4a58ae7",
   "metadata": {
    "execution": {
     "iopub.execute_input": "2024-11-23T15:25:44.793233Z",
     "iopub.status.busy": "2024-11-23T15:25:44.792455Z",
     "iopub.status.idle": "2024-11-23T15:25:46.383276Z",
     "shell.execute_reply": "2024-11-23T15:25:46.382268Z"
    },
    "papermill": {
     "duration": 1.601847,
     "end_time": "2024-11-23T15:25:46.385395",
     "exception": false,
     "start_time": "2024-11-23T15:25:44.783548",
     "status": "completed"
    },
    "tags": []
   },
   "outputs": [],
   "source": [
    "xtrain,xtest,ytrain,ytest=train_test_split(enc_tweets,df['labels'],test_size=0.2,random_state=42)"
   ]
  },
  {
   "cell_type": "code",
   "execution_count": 26,
   "id": "f381ff87",
   "metadata": {
    "execution": {
     "iopub.execute_input": "2024-11-23T15:25:46.403840Z",
     "iopub.status.busy": "2024-11-23T15:25:46.403134Z",
     "iopub.status.idle": "2024-11-23T15:25:46.573609Z",
     "shell.execute_reply": "2024-11-23T15:25:46.572901Z"
    },
    "papermill": {
     "duration": 0.18159,
     "end_time": "2024-11-23T15:25:46.575803",
     "exception": false,
     "start_time": "2024-11-23T15:25:46.394213",
     "status": "completed"
    },
    "tags": []
   },
   "outputs": [],
   "source": [
    "x_test,x_val,y_test,y_val=train_test_split(xtest,ytest,test_size=0.5)\n"
   ]
  },
  {
   "cell_type": "code",
   "execution_count": 27,
   "id": "56823b13",
   "metadata": {
    "execution": {
     "iopub.execute_input": "2024-11-23T15:25:46.596464Z",
     "iopub.status.busy": "2024-11-23T15:25:46.596212Z",
     "iopub.status.idle": "2024-11-23T15:25:56.667518Z",
     "shell.execute_reply": "2024-11-23T15:25:56.666753Z"
    },
    "papermill": {
     "duration": 10.083367,
     "end_time": "2024-11-23T15:25:56.669630",
     "exception": false,
     "start_time": "2024-11-23T15:25:46.586263",
     "status": "completed"
    },
    "tags": []
   },
   "outputs": [],
   "source": [
    "from tensorflow.keras.models import Sequential\n",
    "from tensorflow.keras.layers import Dense,Dropout"
   ]
  },
  {
   "cell_type": "code",
   "execution_count": 28,
   "id": "35c5d8dc",
   "metadata": {
    "execution": {
     "iopub.execute_input": "2024-11-23T15:25:56.688204Z",
     "iopub.status.busy": "2024-11-23T15:25:56.687653Z",
     "iopub.status.idle": "2024-11-23T15:25:56.693127Z",
     "shell.execute_reply": "2024-11-23T15:25:56.692412Z"
    },
    "papermill": {
     "duration": 0.016065,
     "end_time": "2024-11-23T15:25:56.694732",
     "exception": false,
     "start_time": "2024-11-23T15:25:56.678667",
     "status": "completed"
    },
    "tags": []
   },
   "outputs": [
    {
     "data": {
      "text/plain": [
       "(16000, 17926)"
      ]
     },
     "execution_count": 28,
     "metadata": {},
     "output_type": "execute_result"
    }
   ],
   "source": [
    "xtrain.shape"
   ]
  },
  {
   "cell_type": "code",
   "execution_count": 29,
   "id": "e3fbb834",
   "metadata": {
    "execution": {
     "iopub.execute_input": "2024-11-23T15:25:56.712190Z",
     "iopub.status.busy": "2024-11-23T15:25:56.711933Z",
     "iopub.status.idle": "2024-11-23T15:25:56.716809Z",
     "shell.execute_reply": "2024-11-23T15:25:56.716053Z"
    },
    "papermill": {
     "duration": 0.015347,
     "end_time": "2024-11-23T15:25:56.718382",
     "exception": false,
     "start_time": "2024-11-23T15:25:56.703035",
     "status": "completed"
    },
    "tags": []
   },
   "outputs": [
    {
     "data": {
      "text/plain": [
       "(4000, 17926)"
      ]
     },
     "execution_count": 29,
     "metadata": {},
     "output_type": "execute_result"
    }
   ],
   "source": [
    "xtest.shape"
   ]
  },
  {
   "cell_type": "code",
   "execution_count": 30,
   "id": "4b7244b9",
   "metadata": {
    "execution": {
     "iopub.execute_input": "2024-11-23T15:25:56.736211Z",
     "iopub.status.busy": "2024-11-23T15:25:56.735987Z",
     "iopub.status.idle": "2024-11-23T15:25:56.741403Z",
     "shell.execute_reply": "2024-11-23T15:25:56.740616Z"
    },
    "papermill": {
     "duration": 0.016332,
     "end_time": "2024-11-23T15:25:56.742960",
     "exception": false,
     "start_time": "2024-11-23T15:25:56.726628",
     "status": "completed"
    },
    "tags": []
   },
   "outputs": [
    {
     "data": {
      "text/plain": [
       "7"
      ]
     },
     "execution_count": 30,
     "metadata": {},
     "output_type": "execute_result"
    }
   ],
   "source": [
    "xtrain[0].sum()"
   ]
  },
  {
   "cell_type": "code",
   "execution_count": 31,
   "id": "c8ce3cde",
   "metadata": {
    "execution": {
     "iopub.execute_input": "2024-11-23T15:25:56.761050Z",
     "iopub.status.busy": "2024-11-23T15:25:56.760816Z",
     "iopub.status.idle": "2024-11-23T15:25:56.765724Z",
     "shell.execute_reply": "2024-11-23T15:25:56.764902Z"
    },
    "papermill": {
     "duration": 0.015868,
     "end_time": "2024-11-23T15:25:56.767303",
     "exception": false,
     "start_time": "2024-11-23T15:25:56.751435",
     "status": "completed"
    },
    "tags": []
   },
   "outputs": [
    {
     "data": {
      "text/plain": [
       "17926"
      ]
     },
     "execution_count": 31,
     "metadata": {},
     "output_type": "execute_result"
    }
   ],
   "source": [
    "enc_tweets.shape[1]"
   ]
  },
  {
   "cell_type": "code",
   "execution_count": 32,
   "id": "4c397c6f",
   "metadata": {
    "execution": {
     "iopub.execute_input": "2024-11-23T15:25:56.785077Z",
     "iopub.status.busy": "2024-11-23T15:25:56.784853Z",
     "iopub.status.idle": "2024-11-23T15:25:57.522532Z",
     "shell.execute_reply": "2024-11-23T15:25:57.521632Z"
    },
    "papermill": {
     "duration": 0.748832,
     "end_time": "2024-11-23T15:25:57.524540",
     "exception": false,
     "start_time": "2024-11-23T15:25:56.775708",
     "status": "completed"
    },
    "tags": []
   },
   "outputs": [
    {
     "name": "stderr",
     "output_type": "stream",
     "text": [
      "/opt/conda/lib/python3.10/site-packages/keras/src/layers/core/dense.py:87: UserWarning:\n",
      "\n",
      "Do not pass an `input_shape`/`input_dim` argument to a layer. When using Sequential models, prefer using an `Input(shape)` object as the first layer in the model instead.\n",
      "\n"
     ]
    }
   ],
   "source": [
    "model=Sequential()\n",
    "model.add(Dense(512,activation='relu',input_shape=(enc_tweets.shape[1],)))\n",
    "model.add(Dense(128,activation='relu'))\n",
    "model.add(Dense(32,activation='relu'))\n",
    "model.add(Dense(1,activation='sigmoid'))\n",
    "\n",
    "model.compile(loss='binary_crossentropy',optimizer='adam',metrics=['accuracy'])"
   ]
  },
  {
   "cell_type": "code",
   "execution_count": 33,
   "id": "5e33c960",
   "metadata": {
    "execution": {
     "iopub.execute_input": "2024-11-23T15:25:57.543199Z",
     "iopub.status.busy": "2024-11-23T15:25:57.542928Z",
     "iopub.status.idle": "2024-11-23T15:25:57.558295Z",
     "shell.execute_reply": "2024-11-23T15:25:57.557479Z"
    },
    "papermill": {
     "duration": 0.026667,
     "end_time": "2024-11-23T15:25:57.560024",
     "exception": false,
     "start_time": "2024-11-23T15:25:57.533357",
     "status": "completed"
    },
    "tags": []
   },
   "outputs": [
    {
     "data": {
      "text/html": [
       "<pre style=\"white-space:pre;overflow-x:auto;line-height:normal;font-family:Menlo,'DejaVu Sans Mono',consolas,'Courier New',monospace\"><span style=\"font-weight: bold\">Model: \"sequential\"</span>\n",
       "</pre>\n"
      ],
      "text/plain": [
       "\u001b[1mModel: \"sequential\"\u001b[0m\n"
      ]
     },
     "metadata": {},
     "output_type": "display_data"
    },
    {
     "data": {
      "text/html": [
       "<pre style=\"white-space:pre;overflow-x:auto;line-height:normal;font-family:Menlo,'DejaVu Sans Mono',consolas,'Courier New',monospace\">┏━━━━━━━━━━━━━━━━━━━━━━━━━━━━━━━━━┳━━━━━━━━━━━━━━━━━━━━━━━━┳━━━━━━━━━━━━━━━┓\n",
       "┃<span style=\"font-weight: bold\"> Layer (type)                    </span>┃<span style=\"font-weight: bold\"> Output Shape           </span>┃<span style=\"font-weight: bold\">       Param # </span>┃\n",
       "┡━━━━━━━━━━━━━━━━━━━━━━━━━━━━━━━━━╇━━━━━━━━━━━━━━━━━━━━━━━━╇━━━━━━━━━━━━━━━┩\n",
       "│ dense (<span style=\"color: #0087ff; text-decoration-color: #0087ff\">Dense</span>)                   │ (<span style=\"color: #00d7ff; text-decoration-color: #00d7ff\">None</span>, <span style=\"color: #00af00; text-decoration-color: #00af00\">512</span>)            │     <span style=\"color: #00af00; text-decoration-color: #00af00\">9,178,624</span> │\n",
       "├─────────────────────────────────┼────────────────────────┼───────────────┤\n",
       "│ dense_1 (<span style=\"color: #0087ff; text-decoration-color: #0087ff\">Dense</span>)                 │ (<span style=\"color: #00d7ff; text-decoration-color: #00d7ff\">None</span>, <span style=\"color: #00af00; text-decoration-color: #00af00\">128</span>)            │        <span style=\"color: #00af00; text-decoration-color: #00af00\">65,664</span> │\n",
       "├─────────────────────────────────┼────────────────────────┼───────────────┤\n",
       "│ dense_2 (<span style=\"color: #0087ff; text-decoration-color: #0087ff\">Dense</span>)                 │ (<span style=\"color: #00d7ff; text-decoration-color: #00d7ff\">None</span>, <span style=\"color: #00af00; text-decoration-color: #00af00\">32</span>)             │         <span style=\"color: #00af00; text-decoration-color: #00af00\">4,128</span> │\n",
       "├─────────────────────────────────┼────────────────────────┼───────────────┤\n",
       "│ dense_3 (<span style=\"color: #0087ff; text-decoration-color: #0087ff\">Dense</span>)                 │ (<span style=\"color: #00d7ff; text-decoration-color: #00d7ff\">None</span>, <span style=\"color: #00af00; text-decoration-color: #00af00\">1</span>)              │            <span style=\"color: #00af00; text-decoration-color: #00af00\">33</span> │\n",
       "└─────────────────────────────────┴────────────────────────┴───────────────┘\n",
       "</pre>\n"
      ],
      "text/plain": [
       "┏━━━━━━━━━━━━━━━━━━━━━━━━━━━━━━━━━┳━━━━━━━━━━━━━━━━━━━━━━━━┳━━━━━━━━━━━━━━━┓\n",
       "┃\u001b[1m \u001b[0m\u001b[1mLayer (type)                   \u001b[0m\u001b[1m \u001b[0m┃\u001b[1m \u001b[0m\u001b[1mOutput Shape          \u001b[0m\u001b[1m \u001b[0m┃\u001b[1m \u001b[0m\u001b[1m      Param #\u001b[0m\u001b[1m \u001b[0m┃\n",
       "┡━━━━━━━━━━━━━━━━━━━━━━━━━━━━━━━━━╇━━━━━━━━━━━━━━━━━━━━━━━━╇━━━━━━━━━━━━━━━┩\n",
       "│ dense (\u001b[38;5;33mDense\u001b[0m)                   │ (\u001b[38;5;45mNone\u001b[0m, \u001b[38;5;34m512\u001b[0m)            │     \u001b[38;5;34m9,178,624\u001b[0m │\n",
       "├─────────────────────────────────┼────────────────────────┼───────────────┤\n",
       "│ dense_1 (\u001b[38;5;33mDense\u001b[0m)                 │ (\u001b[38;5;45mNone\u001b[0m, \u001b[38;5;34m128\u001b[0m)            │        \u001b[38;5;34m65,664\u001b[0m │\n",
       "├─────────────────────────────────┼────────────────────────┼───────────────┤\n",
       "│ dense_2 (\u001b[38;5;33mDense\u001b[0m)                 │ (\u001b[38;5;45mNone\u001b[0m, \u001b[38;5;34m32\u001b[0m)             │         \u001b[38;5;34m4,128\u001b[0m │\n",
       "├─────────────────────────────────┼────────────────────────┼───────────────┤\n",
       "│ dense_3 (\u001b[38;5;33mDense\u001b[0m)                 │ (\u001b[38;5;45mNone\u001b[0m, \u001b[38;5;34m1\u001b[0m)              │            \u001b[38;5;34m33\u001b[0m │\n",
       "└─────────────────────────────────┴────────────────────────┴───────────────┘\n"
      ]
     },
     "metadata": {},
     "output_type": "display_data"
    },
    {
     "data": {
      "text/html": [
       "<pre style=\"white-space:pre;overflow-x:auto;line-height:normal;font-family:Menlo,'DejaVu Sans Mono',consolas,'Courier New',monospace\"><span style=\"font-weight: bold\"> Total params: </span><span style=\"color: #00af00; text-decoration-color: #00af00\">9,248,449</span> (35.28 MB)\n",
       "</pre>\n"
      ],
      "text/plain": [
       "\u001b[1m Total params: \u001b[0m\u001b[38;5;34m9,248,449\u001b[0m (35.28 MB)\n"
      ]
     },
     "metadata": {},
     "output_type": "display_data"
    },
    {
     "data": {
      "text/html": [
       "<pre style=\"white-space:pre;overflow-x:auto;line-height:normal;font-family:Menlo,'DejaVu Sans Mono',consolas,'Courier New',monospace\"><span style=\"font-weight: bold\"> Trainable params: </span><span style=\"color: #00af00; text-decoration-color: #00af00\">9,248,449</span> (35.28 MB)\n",
       "</pre>\n"
      ],
      "text/plain": [
       "\u001b[1m Trainable params: \u001b[0m\u001b[38;5;34m9,248,449\u001b[0m (35.28 MB)\n"
      ]
     },
     "metadata": {},
     "output_type": "display_data"
    },
    {
     "data": {
      "text/html": [
       "<pre style=\"white-space:pre;overflow-x:auto;line-height:normal;font-family:Menlo,'DejaVu Sans Mono',consolas,'Courier New',monospace\"><span style=\"font-weight: bold\"> Non-trainable params: </span><span style=\"color: #00af00; text-decoration-color: #00af00\">0</span> (0.00 B)\n",
       "</pre>\n"
      ],
      "text/plain": [
       "\u001b[1m Non-trainable params: \u001b[0m\u001b[38;5;34m0\u001b[0m (0.00 B)\n"
      ]
     },
     "metadata": {},
     "output_type": "display_data"
    }
   ],
   "source": [
    "model.summary()"
   ]
  },
  {
   "cell_type": "code",
   "execution_count": 34,
   "id": "45243bdb",
   "metadata": {
    "execution": {
     "iopub.execute_input": "2024-11-23T15:25:57.579264Z",
     "iopub.status.busy": "2024-11-23T15:25:57.578665Z",
     "iopub.status.idle": "2024-11-23T15:25:57.582035Z",
     "shell.execute_reply": "2024-11-23T15:25:57.581336Z"
    },
    "papermill": {
     "duration": 0.014472,
     "end_time": "2024-11-23T15:25:57.583491",
     "exception": false,
     "start_time": "2024-11-23T15:25:57.569019",
     "status": "completed"
    },
    "tags": []
   },
   "outputs": [],
   "source": [
    "epochs=10\n",
    "batch_size=32"
   ]
  },
  {
   "cell_type": "code",
   "execution_count": 35,
   "id": "0f73a6aa",
   "metadata": {
    "execution": {
     "iopub.execute_input": "2024-11-23T15:25:57.602605Z",
     "iopub.status.busy": "2024-11-23T15:25:57.602120Z",
     "iopub.status.idle": "2024-11-23T15:26:30.127480Z",
     "shell.execute_reply": "2024-11-23T15:26:30.126532Z"
    },
    "papermill": {
     "duration": 32.537099,
     "end_time": "2024-11-23T15:26:30.129644",
     "exception": false,
     "start_time": "2024-11-23T15:25:57.592545",
     "status": "completed"
    },
    "tags": []
   },
   "outputs": [
    {
     "name": "stdout",
     "output_type": "stream",
     "text": [
      "Epoch 1/10\n"
     ]
    },
    {
     "name": "stderr",
     "output_type": "stream",
     "text": [
      "WARNING: All log messages before absl::InitializeLog() is called are written to STDERR\n",
      "I0000 00:00:1732375564.511998      71 service.cc:145] XLA service 0x7829e8005280 initialized for platform CUDA (this does not guarantee that XLA will be used). Devices:\n",
      "I0000 00:00:1732375564.512078      71 service.cc:153]   StreamExecutor device (0): Tesla T4, Compute Capability 7.5\n",
      "I0000 00:00:1732375564.512085      71 service.cc:153]   StreamExecutor device (1): Tesla T4, Compute Capability 7.5\n"
     ]
    },
    {
     "name": "stdout",
     "output_type": "stream",
     "text": [
      "\u001b[1m 37/500\u001b[0m \u001b[32m━\u001b[0m\u001b[37m━━━━━━━━━━━━━━━━━━━\u001b[0m \u001b[1m2s\u001b[0m 4ms/step - accuracy: 0.4996 - loss: 0.6910"
     ]
    },
    {
     "name": "stderr",
     "output_type": "stream",
     "text": [
      "I0000 00:00:1732375565.925049      71 device_compiler.h:188] Compiled cluster using XLA!  This line is logged at most once for the lifetime of the process.\n"
     ]
    },
    {
     "name": "stdout",
     "output_type": "stream",
     "text": [
      "\u001b[1m500/500\u001b[0m \u001b[32m━━━━━━━━━━━━━━━━━━━━\u001b[0m\u001b[37m\u001b[0m \u001b[1m6s\u001b[0m 7ms/step - accuracy: 0.6526 - loss: 0.6114 - val_accuracy: 0.7460 - val_loss: 0.5192\n",
      "Epoch 2/10\n",
      "\u001b[1m500/500\u001b[0m \u001b[32m━━━━━━━━━━━━━━━━━━━━\u001b[0m\u001b[37m\u001b[0m \u001b[1m2s\u001b[0m 5ms/step - accuracy: 0.8648 - loss: 0.3220 - val_accuracy: 0.7255 - val_loss: 0.5845\n",
      "Epoch 3/10\n",
      "\u001b[1m500/500\u001b[0m \u001b[32m━━━━━━━━━━━━━━━━━━━━\u001b[0m\u001b[37m\u001b[0m \u001b[1m2s\u001b[0m 5ms/step - accuracy: 0.9554 - loss: 0.1256 - val_accuracy: 0.7160 - val_loss: 0.8799\n",
      "Epoch 4/10\n",
      "\u001b[1m500/500\u001b[0m \u001b[32m━━━━━━━━━━━━━━━━━━━━\u001b[0m\u001b[37m\u001b[0m \u001b[1m2s\u001b[0m 4ms/step - accuracy: 0.9849 - loss: 0.0406 - val_accuracy: 0.7220 - val_loss: 1.2464\n",
      "Epoch 5/10\n",
      "\u001b[1m500/500\u001b[0m \u001b[32m━━━━━━━━━━━━━━━━━━━━\u001b[0m\u001b[37m\u001b[0m \u001b[1m2s\u001b[0m 4ms/step - accuracy: 0.9919 - loss: 0.0214 - val_accuracy: 0.7145 - val_loss: 1.5128\n",
      "Epoch 6/10\n",
      "\u001b[1m500/500\u001b[0m \u001b[32m━━━━━━━━━━━━━━━━━━━━\u001b[0m\u001b[37m\u001b[0m \u001b[1m2s\u001b[0m 5ms/step - accuracy: 0.9926 - loss: 0.0181 - val_accuracy: 0.7190 - val_loss: 1.5669\n",
      "Epoch 7/10\n",
      "\u001b[1m500/500\u001b[0m \u001b[32m━━━━━━━━━━━━━━━━━━━━\u001b[0m\u001b[37m\u001b[0m \u001b[1m2s\u001b[0m 4ms/step - accuracy: 0.9939 - loss: 0.0128 - val_accuracy: 0.7175 - val_loss: 1.6329\n",
      "Epoch 8/10\n",
      "\u001b[1m500/500\u001b[0m \u001b[32m━━━━━━━━━━━━━━━━━━━━\u001b[0m\u001b[37m\u001b[0m \u001b[1m2s\u001b[0m 5ms/step - accuracy: 0.9947 - loss: 0.0107 - val_accuracy: 0.7145 - val_loss: 1.5917\n",
      "Epoch 9/10\n",
      "\u001b[1m500/500\u001b[0m \u001b[32m━━━━━━━━━━━━━━━━━━━━\u001b[0m\u001b[37m\u001b[0m \u001b[1m2s\u001b[0m 4ms/step - accuracy: 0.9932 - loss: 0.0135 - val_accuracy: 0.7215 - val_loss: 1.8021\n",
      "Epoch 10/10\n",
      "\u001b[1m500/500\u001b[0m \u001b[32m━━━━━━━━━━━━━━━━━━━━\u001b[0m\u001b[37m\u001b[0m \u001b[1m2s\u001b[0m 5ms/step - accuracy: 0.9932 - loss: 0.0115 - val_accuracy: 0.7190 - val_loss: 1.8614\n"
     ]
    }
   ],
   "source": [
    "history_1=model.fit(xtrain,ytrain,epochs=epochs,batch_size=batch_size,validation_data=(x_val,y_val))"
   ]
  },
  {
   "cell_type": "code",
   "execution_count": 36,
   "id": "d7eadebc",
   "metadata": {
    "execution": {
     "iopub.execute_input": "2024-11-23T15:26:30.186951Z",
     "iopub.status.busy": "2024-11-23T15:26:30.186670Z",
     "iopub.status.idle": "2024-11-23T15:26:32.007435Z",
     "shell.execute_reply": "2024-11-23T15:26:32.006648Z"
    },
    "papermill": {
     "duration": 1.850564,
     "end_time": "2024-11-23T15:26:32.009044",
     "exception": false,
     "start_time": "2024-11-23T15:26:30.158480",
     "status": "completed"
    },
    "tags": []
   },
   "outputs": [
    {
     "name": "stdout",
     "output_type": "stream",
     "text": [
      "\u001b[1m125/125\u001b[0m \u001b[32m━━━━━━━━━━━━━━━━━━━━\u001b[0m\u001b[37m\u001b[0m \u001b[1m0s\u001b[0m 3ms/step - accuracy: 0.7160 - loss: 1.9855\n"
     ]
    },
    {
     "data": {
      "text/plain": [
       "[1.9579740762710571, 0.7124999761581421]"
      ]
     },
     "execution_count": 36,
     "metadata": {},
     "output_type": "execute_result"
    }
   ],
   "source": [
    "model.evaluate(xtest,ytest)"
   ]
  },
  {
   "cell_type": "code",
   "execution_count": 37,
   "id": "ab6a9ee1",
   "metadata": {
    "execution": {
     "iopub.execute_input": "2024-11-23T15:26:32.066116Z",
     "iopub.status.busy": "2024-11-23T15:26:32.065822Z",
     "iopub.status.idle": "2024-11-23T15:27:07.354555Z",
     "shell.execute_reply": "2024-11-23T15:27:07.353726Z"
    },
    "papermill": {
     "duration": 35.319196,
     "end_time": "2024-11-23T15:27:07.356291",
     "exception": false,
     "start_time": "2024-11-23T15:26:32.037095",
     "status": "completed"
    },
    "tags": []
   },
   "outputs": [
    {
     "name": "stdout",
     "output_type": "stream",
     "text": [
      "Epoch 1/10\n",
      "\u001b[1m500/500\u001b[0m \u001b[32m━━━━━━━━━━━━━━━━━━━━\u001b[0m\u001b[37m\u001b[0m \u001b[1m5s\u001b[0m 7ms/step - accuracy: 0.6668 - loss: 0.6076 - val_accuracy: 0.7170 - val_loss: 0.5446\n",
      "Epoch 2/10\n",
      "\u001b[1m500/500\u001b[0m \u001b[32m━━━━━━━━━━━━━━━━━━━━\u001b[0m\u001b[37m\u001b[0m \u001b[1m2s\u001b[0m 4ms/step - accuracy: 0.8609 - loss: 0.3255 - val_accuracy: 0.7175 - val_loss: 0.6418\n",
      "Epoch 3/10\n",
      "\u001b[1m500/500\u001b[0m \u001b[32m━━━━━━━━━━━━━━━━━━━━\u001b[0m\u001b[37m\u001b[0m \u001b[1m2s\u001b[0m 5ms/step - accuracy: 0.9498 - loss: 0.1266 - val_accuracy: 0.7080 - val_loss: 0.9891\n",
      "Epoch 4/10\n",
      "\u001b[1m500/500\u001b[0m \u001b[32m━━━━━━━━━━━━━━━━━━━━\u001b[0m\u001b[37m\u001b[0m \u001b[1m2s\u001b[0m 5ms/step - accuracy: 0.9839 - loss: 0.0390 - val_accuracy: 0.7140 - val_loss: 1.3422\n",
      "Epoch 5/10\n",
      "\u001b[1m500/500\u001b[0m \u001b[32m━━━━━━━━━━━━━━━━━━━━\u001b[0m\u001b[37m\u001b[0m \u001b[1m2s\u001b[0m 4ms/step - accuracy: 0.9895 - loss: 0.0237 - val_accuracy: 0.7180 - val_loss: 1.5655\n",
      "Epoch 6/10\n",
      "\u001b[1m500/500\u001b[0m \u001b[32m━━━━━━━━━━━━━━━━━━━━\u001b[0m\u001b[37m\u001b[0m \u001b[1m2s\u001b[0m 5ms/step - accuracy: 0.9931 - loss: 0.0157 - val_accuracy: 0.7175 - val_loss: 1.5823\n",
      "Epoch 7/10\n",
      "\u001b[1m500/500\u001b[0m \u001b[32m━━━━━━━━━━━━━━━━━━━━\u001b[0m\u001b[37m\u001b[0m \u001b[1m2s\u001b[0m 5ms/step - accuracy: 0.9936 - loss: 0.0150 - val_accuracy: 0.7165 - val_loss: 1.6828\n",
      "Epoch 8/10\n",
      "\u001b[1m500/500\u001b[0m \u001b[32m━━━━━━━━━━━━━━━━━━━━\u001b[0m\u001b[37m\u001b[0m \u001b[1m2s\u001b[0m 5ms/step - accuracy: 0.9949 - loss: 0.0105 - val_accuracy: 0.7260 - val_loss: 1.7213\n",
      "Epoch 9/10\n",
      "\u001b[1m500/500\u001b[0m \u001b[32m━━━━━━━━━━━━━━━━━━━━\u001b[0m\u001b[37m\u001b[0m \u001b[1m2s\u001b[0m 5ms/step - accuracy: 0.9939 - loss: 0.0119 - val_accuracy: 0.7250 - val_loss: 2.1231\n",
      "Epoch 10/10\n",
      "\u001b[1m500/500\u001b[0m \u001b[32m━━━━━━━━━━━━━━━━━━━━\u001b[0m\u001b[37m\u001b[0m \u001b[1m2s\u001b[0m 5ms/step - accuracy: 0.9946 - loss: 0.0102 - val_accuracy: 0.7070 - val_loss: 2.0615\n",
      "\u001b[1m125/125\u001b[0m \u001b[32m━━━━━━━━━━━━━━━━━━━━\u001b[0m\u001b[37m\u001b[0m \u001b[1m0s\u001b[0m 3ms/step - accuracy: 0.7093 - loss: 2.1543\n"
     ]
    },
    {
     "data": {
      "text/plain": [
       "[2.119734525680542, 0.7102500200271606]"
      ]
     },
     "execution_count": 37,
     "metadata": {},
     "output_type": "execute_result"
    }
   ],
   "source": [
    "vec=CountVectorizer(binary=True)\n",
    "vec=vec.fit(df['clean_tweets'])\n",
    "enc_tweets=vec.fit_transform(df['clean_tweets']).toarray()\n",
    "xtrain,xtest,ytrain,ytest=train_test_split(enc_tweets,df['labels'],test_size=0.2,random_state=42)\n",
    "x_test,x_val,y_test,y_val=train_test_split(xtest,ytest,test_size=0.5)\n",
    "\n",
    "model=Sequential()\n",
    "model.add(Dense(512,activation='relu',input_shape=(enc_tweets.shape[1],)))\n",
    "model.add(Dense(128,activation='relu'))\n",
    "model.add(Dense(32,activation='relu'))\n",
    "model.add(Dense(1,activation='sigmoid'))\n",
    "\n",
    "model.compile(loss='binary_crossentropy',optimizer='adam',metrics=['accuracy'])\n",
    "history_1=model.fit(xtrain,ytrain,epochs=epochs,batch_size=batch_size,validation_data=(x_val,y_val))\n",
    "model.evaluate(xtest,ytest)"
   ]
  },
  {
   "cell_type": "code",
   "execution_count": 38,
   "id": "d11c653d",
   "metadata": {
    "execution": {
     "iopub.execute_input": "2024-11-23T15:27:07.489363Z",
     "iopub.status.busy": "2024-11-23T15:27:07.488976Z",
     "iopub.status.idle": "2024-11-23T15:27:35.569429Z",
     "shell.execute_reply": "2024-11-23T15:27:35.568583Z"
    },
    "papermill": {
     "duration": 28.130622,
     "end_time": "2024-11-23T15:27:35.571146",
     "exception": false,
     "start_time": "2024-11-23T15:27:07.440524",
     "status": "completed"
    },
    "tags": []
   },
   "outputs": [
    {
     "name": "stdout",
     "output_type": "stream",
     "text": [
      "Epoch 1/10\n",
      "\u001b[1m500/500\u001b[0m \u001b[32m━━━━━━━━━━━━━━━━━━━━\u001b[0m\u001b[37m\u001b[0m \u001b[1m4s\u001b[0m 5ms/step - accuracy: 0.6359 - loss: 0.6125 - val_accuracy: 0.7340 - val_loss: 0.5382\n",
      "Epoch 2/10\n",
      "\u001b[1m500/500\u001b[0m \u001b[32m━━━━━━━━━━━━━━━━━━━━\u001b[0m\u001b[37m\u001b[0m \u001b[1m2s\u001b[0m 4ms/step - accuracy: 0.8608 - loss: 0.3291 - val_accuracy: 0.7095 - val_loss: 0.6226\n",
      "Epoch 3/10\n",
      "\u001b[1m500/500\u001b[0m \u001b[32m━━━━━━━━━━━━━━━━━━━━\u001b[0m\u001b[37m\u001b[0m \u001b[1m2s\u001b[0m 4ms/step - accuracy: 0.9400 - loss: 0.1518 - val_accuracy: 0.7015 - val_loss: 0.8234\n",
      "Epoch 4/10\n",
      "\u001b[1m500/500\u001b[0m \u001b[32m━━━━━━━━━━━━━━━━━━━━\u001b[0m\u001b[37m\u001b[0m \u001b[1m2s\u001b[0m 4ms/step - accuracy: 0.9835 - loss: 0.0468 - val_accuracy: 0.6785 - val_loss: 1.0725\n",
      "Epoch 5/10\n",
      "\u001b[1m500/500\u001b[0m \u001b[32m━━━━━━━━━━━━━━━━━━━━\u001b[0m\u001b[37m\u001b[0m \u001b[1m2s\u001b[0m 4ms/step - accuracy: 0.9905 - loss: 0.0241 - val_accuracy: 0.7000 - val_loss: 1.2416\n",
      "Epoch 6/10\n",
      "\u001b[1m500/500\u001b[0m \u001b[32m━━━━━━━━━━━━━━━━━━━━\u001b[0m\u001b[37m\u001b[0m \u001b[1m2s\u001b[0m 4ms/step - accuracy: 0.9930 - loss: 0.0146 - val_accuracy: 0.6845 - val_loss: 1.3119\n",
      "Epoch 7/10\n",
      "\u001b[1m500/500\u001b[0m \u001b[32m━━━━━━━━━━━━━━━━━━━━\u001b[0m\u001b[37m\u001b[0m \u001b[1m2s\u001b[0m 4ms/step - accuracy: 0.9947 - loss: 0.0131 - val_accuracy: 0.6905 - val_loss: 1.3642\n",
      "Epoch 8/10\n",
      "\u001b[1m500/500\u001b[0m \u001b[32m━━━━━━━━━━━━━━━━━━━━\u001b[0m\u001b[37m\u001b[0m \u001b[1m2s\u001b[0m 4ms/step - accuracy: 0.9946 - loss: 0.0112 - val_accuracy: 0.7015 - val_loss: 1.6294\n",
      "Epoch 9/10\n",
      "\u001b[1m500/500\u001b[0m \u001b[32m━━━━━━━━━━━━━━━━━━━━\u001b[0m\u001b[37m\u001b[0m \u001b[1m2s\u001b[0m 4ms/step - accuracy: 0.9934 - loss: 0.0111 - val_accuracy: 0.6940 - val_loss: 1.5666\n",
      "Epoch 10/10\n",
      "\u001b[1m500/500\u001b[0m \u001b[32m━━━━━━━━━━━━━━━━━━━━\u001b[0m\u001b[37m\u001b[0m \u001b[1m2s\u001b[0m 4ms/step - accuracy: 0.9954 - loss: 0.0093 - val_accuracy: 0.7025 - val_loss: 1.5843\n",
      "\u001b[1m125/125\u001b[0m \u001b[32m━━━━━━━━━━━━━━━━━━━━\u001b[0m\u001b[37m\u001b[0m \u001b[1m0s\u001b[0m 2ms/step - accuracy: 0.7094 - loss: 1.5407\n"
     ]
    },
    {
     "data": {
      "text/plain": [
       "[1.5529597997665405, 0.703000009059906]"
      ]
     },
     "execution_count": 38,
     "metadata": {},
     "output_type": "execute_result"
    }
   ],
   "source": [
    "tfidf=TfidfVectorizer()\n",
    "\n",
    "enc_tweets=tfidf.fit_transform(df['clean_tweets']).toarray()\n",
    "xtrain,xtest,ytrain,ytest=train_test_split(enc_tweets,df['labels'],test_size=0.2,random_state=42)\n",
    "x_test,x_val,y_test,y_val=train_test_split(xtest,ytest,test_size=0.5)\n",
    "\n",
    "model=Sequential()\n",
    "model.add(Dense(512,activation='relu',input_shape=(enc_tweets.shape[1],)))\n",
    "model.add(Dense(128,activation='relu'))\n",
    "model.add(Dense(32,activation='relu'))\n",
    "model.add(Dense(1,activation='sigmoid'))\n",
    "\n",
    "model.compile(loss='binary_crossentropy',optimizer='adam',metrics=['accuracy'])\n",
    "history_1=model.fit(xtrain,ytrain,epochs=epochs,batch_size=batch_size,validation_data=(x_val,y_val))\n",
    "model.evaluate(xtest,ytest)"
   ]
  },
  {
   "cell_type": "code",
   "execution_count": 39,
   "id": "919c58fe",
   "metadata": {
    "execution": {
     "iopub.execute_input": "2024-11-23T15:27:35.700696Z",
     "iopub.status.busy": "2024-11-23T15:27:35.700376Z",
     "iopub.status.idle": "2024-11-23T15:27:35.705196Z",
     "shell.execute_reply": "2024-11-23T15:27:35.704590Z"
    },
    "papermill": {
     "duration": 0.071186,
     "end_time": "2024-11-23T15:27:35.706834",
     "exception": false,
     "start_time": "2024-11-23T15:27:35.635648",
     "status": "completed"
    },
    "tags": []
   },
   "outputs": [],
   "source": [
    "from tensorflow.keras.preprocessing.text import Tokenizer\n",
    "from tensorflow.keras.preprocessing.sequence import pad_sequences\n"
   ]
  },
  {
   "cell_type": "code",
   "execution_count": 40,
   "id": "373e796b",
   "metadata": {
    "execution": {
     "iopub.execute_input": "2024-11-23T15:27:35.833209Z",
     "iopub.status.busy": "2024-11-23T15:27:35.832936Z",
     "iopub.status.idle": "2024-11-23T15:27:36.316281Z",
     "shell.execute_reply": "2024-11-23T15:27:36.315587Z"
    },
    "papermill": {
     "duration": 0.548957,
     "end_time": "2024-11-23T15:27:36.318256",
     "exception": false,
     "start_time": "2024-11-23T15:27:35.769299",
     "status": "completed"
    },
    "tags": []
   },
   "outputs": [],
   "source": [
    "seq_len=20\n",
    "tokenizer=Tokenizer()\n",
    "tokenizer.fit_on_texts(df['clean_tweets'])\n",
    "word_index=tokenizer.word_index\n",
    "index_word=tokenizer.index_word\n",
    "sequences=tokenizer.texts_to_sequences(df['clean_tweets'])\n",
    "enc_tweets=pad_sequences(sequences,maxlen=seq_len,padding='post')"
   ]
  },
  {
   "cell_type": "code",
   "execution_count": 41,
   "id": "04b8d7bf",
   "metadata": {
    "execution": {
     "iopub.execute_input": "2024-11-23T15:27:36.446393Z",
     "iopub.status.busy": "2024-11-23T15:27:36.446101Z",
     "iopub.status.idle": "2024-11-23T15:27:36.451253Z",
     "shell.execute_reply": "2024-11-23T15:27:36.450487Z"
    },
    "papermill": {
     "duration": 0.070359,
     "end_time": "2024-11-23T15:27:36.452703",
     "exception": false,
     "start_time": "2024-11-23T15:27:36.382344",
     "status": "completed"
    },
    "tags": []
   },
   "outputs": [
    {
     "data": {
      "text/plain": [
       "(20000, 20)"
      ]
     },
     "execution_count": 41,
     "metadata": {},
     "output_type": "execute_result"
    }
   ],
   "source": [
    "enc_tweets.shape"
   ]
  },
  {
   "cell_type": "code",
   "execution_count": 42,
   "id": "52468eca",
   "metadata": {
    "execution": {
     "iopub.execute_input": "2024-11-23T15:27:36.580924Z",
     "iopub.status.busy": "2024-11-23T15:27:36.580629Z",
     "iopub.status.idle": "2024-11-23T15:27:36.585824Z",
     "shell.execute_reply": "2024-11-23T15:27:36.585021Z"
    },
    "papermill": {
     "duration": 0.071488,
     "end_time": "2024-11-23T15:27:36.587494",
     "exception": false,
     "start_time": "2024-11-23T15:27:36.516006",
     "status": "completed"
    },
    "tags": []
   },
   "outputs": [
    {
     "data": {
      "text/plain": [
       "array([   1, 1260, 1939,  146,    0,    0,    0,    0,    0,    0,    0,\n",
       "          0,    0,    0,    0,    0,    0,    0,    0,    0], dtype=int32)"
      ]
     },
     "execution_count": 42,
     "metadata": {},
     "output_type": "execute_result"
    }
   ],
   "source": [
    "enc_tweets[0]"
   ]
  },
  {
   "cell_type": "code",
   "execution_count": 43,
   "id": "162bd3c9",
   "metadata": {
    "execution": {
     "iopub.execute_input": "2024-11-23T15:27:36.714631Z",
     "iopub.status.busy": "2024-11-23T15:27:36.714353Z",
     "iopub.status.idle": "2024-11-23T15:27:36.719425Z",
     "shell.execute_reply": "2024-11-23T15:27:36.718617Z"
    },
    "papermill": {
     "duration": 0.071036,
     "end_time": "2024-11-23T15:27:36.721007",
     "exception": false,
     "start_time": "2024-11-23T15:27:36.649971",
     "status": "completed"
    },
    "tags": []
   },
   "outputs": [
    {
     "data": {
      "text/plain": [
       "18155"
      ]
     },
     "execution_count": 43,
     "metadata": {},
     "output_type": "execute_result"
    }
   ],
   "source": [
    "len(word_index)"
   ]
  },
  {
   "cell_type": "code",
   "execution_count": 44,
   "id": "54268ecf",
   "metadata": {
    "execution": {
     "iopub.execute_input": "2024-11-23T15:27:36.847993Z",
     "iopub.status.busy": "2024-11-23T15:27:36.847732Z",
     "iopub.status.idle": "2024-11-23T15:27:36.866257Z",
     "shell.execute_reply": "2024-11-23T15:27:36.865674Z"
    },
    "papermill": {
     "duration": 0.083932,
     "end_time": "2024-11-23T15:27:36.867825",
     "exception": false,
     "start_time": "2024-11-23T15:27:36.783893",
     "status": "completed"
    },
    "tags": []
   },
   "outputs": [],
   "source": [
    "xtrain,xtest,ytrain,ytest=train_test_split(enc_tweets,df['labels'],test_size=0.2,random_state=42)\n",
    "x_test,x_val,y_test,y_val=train_test_split(xtest,ytest,test_size=0.5)"
   ]
  },
  {
   "cell_type": "code",
   "execution_count": 45,
   "id": "4a6dc4a8",
   "metadata": {
    "execution": {
     "iopub.execute_input": "2024-11-23T15:27:36.996427Z",
     "iopub.status.busy": "2024-11-23T15:27:36.996191Z",
     "iopub.status.idle": "2024-11-23T15:27:37.048400Z",
     "shell.execute_reply": "2024-11-23T15:27:37.047578Z"
    },
    "papermill": {
     "duration": 0.117795,
     "end_time": "2024-11-23T15:27:37.050098",
     "exception": false,
     "start_time": "2024-11-23T15:27:36.932303",
     "status": "completed"
    },
    "tags": []
   },
   "outputs": [],
   "source": [
    "model=Sequential()\n",
    "model.add(Dense(512,activation='relu',input_shape=(seq_len,)))\n",
    "model.add(Dropout(0.5))\n",
    "model.add(Dense(128,activation='relu'))\n",
    "model.add(Dropout(0.5))\n",
    "\n",
    "model.add(Dense(32,activation='relu'))\n",
    "model.add(Dense(1,activation='sigmoid'))\n",
    "model.compile(loss='binary_crossentropy',optimizer='adam',metrics=['accuracy'])"
   ]
  },
  {
   "cell_type": "code",
   "execution_count": 46,
   "id": "9de1ea37",
   "metadata": {
    "execution": {
     "iopub.execute_input": "2024-11-23T15:27:37.177270Z",
     "iopub.status.busy": "2024-11-23T15:27:37.177018Z",
     "iopub.status.idle": "2024-11-23T15:27:51.353929Z",
     "shell.execute_reply": "2024-11-23T15:27:51.353228Z"
    },
    "papermill": {
     "duration": 14.243081,
     "end_time": "2024-11-23T15:27:51.355748",
     "exception": false,
     "start_time": "2024-11-23T15:27:37.112667",
     "status": "completed"
    },
    "tags": []
   },
   "outputs": [
    {
     "name": "stdout",
     "output_type": "stream",
     "text": [
      "Epoch 1/10\n",
      "\u001b[1m500/500\u001b[0m \u001b[32m━━━━━━━━━━━━━━━━━━━━\u001b[0m\u001b[37m\u001b[0m \u001b[1m7s\u001b[0m 3ms/step - accuracy: 0.4882 - loss: 83.0706 - val_accuracy: 0.5115 - val_loss: 0.7068\n",
      "Epoch 2/10\n",
      "\u001b[1m500/500\u001b[0m \u001b[32m━━━━━━━━━━━━━━━━━━━━\u001b[0m\u001b[37m\u001b[0m \u001b[1m1s\u001b[0m 2ms/step - accuracy: 0.5014 - loss: 4.2683 - val_accuracy: 0.4960 - val_loss: 0.6937\n",
      "Epoch 3/10\n",
      "\u001b[1m500/500\u001b[0m \u001b[32m━━━━━━━━━━━━━━━━━━━━\u001b[0m\u001b[37m\u001b[0m \u001b[1m1s\u001b[0m 2ms/step - accuracy: 0.5160 - loss: 1.1394 - val_accuracy: 0.4915 - val_loss: 0.6934\n",
      "Epoch 4/10\n",
      "\u001b[1m500/500\u001b[0m \u001b[32m━━━━━━━━━━━━━━━━━━━━\u001b[0m\u001b[37m\u001b[0m \u001b[1m1s\u001b[0m 2ms/step - accuracy: 0.5029 - loss: 0.8471 - val_accuracy: 0.4915 - val_loss: 0.6934\n",
      "Epoch 5/10\n",
      "\u001b[1m500/500\u001b[0m \u001b[32m━━━━━━━━━━━━━━━━━━━━\u001b[0m\u001b[37m\u001b[0m \u001b[1m1s\u001b[0m 2ms/step - accuracy: 0.4970 - loss: 0.7811 - val_accuracy: 0.4915 - val_loss: 0.6933\n",
      "Epoch 6/10\n",
      "\u001b[1m500/500\u001b[0m \u001b[32m━━━━━━━━━━━━━━━━━━━━\u001b[0m\u001b[37m\u001b[0m \u001b[1m1s\u001b[0m 2ms/step - accuracy: 0.5106 - loss: 0.7456 - val_accuracy: 0.5085 - val_loss: 0.6931\n",
      "Epoch 7/10\n",
      "\u001b[1m500/500\u001b[0m \u001b[32m━━━━━━━━━━━━━━━━━━━━\u001b[0m\u001b[37m\u001b[0m \u001b[1m1s\u001b[0m 2ms/step - accuracy: 0.5027 - loss: 0.7147 - val_accuracy: 0.5085 - val_loss: 0.6931\n",
      "Epoch 8/10\n",
      "\u001b[1m500/500\u001b[0m \u001b[32m━━━━━━━━━━━━━━━━━━━━\u001b[0m\u001b[37m\u001b[0m \u001b[1m1s\u001b[0m 2ms/step - accuracy: 0.4943 - loss: 0.7035 - val_accuracy: 0.5085 - val_loss: 0.6931\n",
      "Epoch 9/10\n",
      "\u001b[1m500/500\u001b[0m \u001b[32m━━━━━━━━━━━━━━━━━━━━\u001b[0m\u001b[37m\u001b[0m \u001b[1m1s\u001b[0m 2ms/step - accuracy: 0.4976 - loss: 0.7099 - val_accuracy: 0.5085 - val_loss: 0.6931\n",
      "Epoch 10/10\n",
      "\u001b[1m500/500\u001b[0m \u001b[32m━━━━━━━━━━━━━━━━━━━━\u001b[0m\u001b[37m\u001b[0m \u001b[1m1s\u001b[0m 2ms/step - accuracy: 0.5019 - loss: 0.6972 - val_accuracy: 0.5085 - val_loss: 0.6930\n"
     ]
    }
   ],
   "source": [
    "history_4=model.fit(xtrain,ytrain,epochs=epochs,batch_size=batch_size,validation_data=(x_val,y_val))"
   ]
  },
  {
   "cell_type": "code",
   "execution_count": 47,
   "id": "8c02307b",
   "metadata": {
    "execution": {
     "iopub.execute_input": "2024-11-23T15:27:51.498993Z",
     "iopub.status.busy": "2024-11-23T15:27:51.498720Z",
     "iopub.status.idle": "2024-11-23T15:28:02.119170Z",
     "shell.execute_reply": "2024-11-23T15:28:02.118468Z"
    },
    "papermill": {
     "duration": 10.692954,
     "end_time": "2024-11-23T15:28:02.120910",
     "exception": false,
     "start_time": "2024-11-23T15:27:51.427956",
     "status": "completed"
    },
    "tags": []
   },
   "outputs": [
    {
     "name": "stdout",
     "output_type": "stream",
     "text": [
      "Epoch 1/10\n"
     ]
    },
    {
     "name": "stderr",
     "output_type": "stream",
     "text": [
      "/opt/conda/lib/python3.10/site-packages/keras/src/layers/core/embedding.py:90: UserWarning:\n",
      "\n",
      "Argument `input_length` is deprecated. Just remove it.\n",
      "\n"
     ]
    },
    {
     "name": "stdout",
     "output_type": "stream",
     "text": [
      "\u001b[1m500/500\u001b[0m \u001b[32m━━━━━━━━━━━━━━━━━━━━\u001b[0m\u001b[37m\u001b[0m \u001b[1m3s\u001b[0m 3ms/step - accuracy: 0.5849 - loss: 0.6489 - val_accuracy: 0.7430 - val_loss: 0.5240\n",
      "Epoch 2/10\n",
      "\u001b[1m500/500\u001b[0m \u001b[32m━━━━━━━━━━━━━━━━━━━━\u001b[0m\u001b[37m\u001b[0m \u001b[1m1s\u001b[0m 2ms/step - accuracy: 0.8538 - loss: 0.3578 - val_accuracy: 0.7025 - val_loss: 0.6329\n",
      "Epoch 3/10\n",
      "\u001b[1m500/500\u001b[0m \u001b[32m━━━━━━━━━━━━━━━━━━━━\u001b[0m\u001b[37m\u001b[0m \u001b[1m1s\u001b[0m 2ms/step - accuracy: 0.9509 - loss: 0.1361 - val_accuracy: 0.6785 - val_loss: 0.8394\n",
      "Epoch 4/10\n",
      "\u001b[1m500/500\u001b[0m \u001b[32m━━━━━━━━━━━━━━━━━━━━\u001b[0m\u001b[37m\u001b[0m \u001b[1m1s\u001b[0m 2ms/step - accuracy: 0.9765 - loss: 0.0658 - val_accuracy: 0.6735 - val_loss: 1.0363\n",
      "Epoch 5/10\n",
      "\u001b[1m500/500\u001b[0m \u001b[32m━━━━━━━━━━━━━━━━━━━━\u001b[0m\u001b[37m\u001b[0m \u001b[1m1s\u001b[0m 2ms/step - accuracy: 0.9842 - loss: 0.0431 - val_accuracy: 0.6745 - val_loss: 1.2161\n",
      "Epoch 6/10\n",
      "\u001b[1m500/500\u001b[0m \u001b[32m━━━━━━━━━━━━━━━━━━━━\u001b[0m\u001b[37m\u001b[0m \u001b[1m1s\u001b[0m 2ms/step - accuracy: 0.9867 - loss: 0.0358 - val_accuracy: 0.6725 - val_loss: 1.3926\n",
      "Epoch 7/10\n",
      "\u001b[1m500/500\u001b[0m \u001b[32m━━━━━━━━━━━━━━━━━━━━\u001b[0m\u001b[37m\u001b[0m \u001b[1m1s\u001b[0m 2ms/step - accuracy: 0.9882 - loss: 0.0287 - val_accuracy: 0.6645 - val_loss: 1.5299\n",
      "Epoch 8/10\n",
      "\u001b[1m500/500\u001b[0m \u001b[32m━━━━━━━━━━━━━━━━━━━━\u001b[0m\u001b[37m\u001b[0m \u001b[1m1s\u001b[0m 2ms/step - accuracy: 0.9887 - loss: 0.0261 - val_accuracy: 0.6640 - val_loss: 1.6425\n",
      "Epoch 9/10\n",
      "\u001b[1m500/500\u001b[0m \u001b[32m━━━━━━━━━━━━━━━━━━━━\u001b[0m\u001b[37m\u001b[0m \u001b[1m1s\u001b[0m 2ms/step - accuracy: 0.9910 - loss: 0.0227 - val_accuracy: 0.6530 - val_loss: 1.7001\n",
      "Epoch 10/10\n",
      "\u001b[1m500/500\u001b[0m \u001b[32m━━━━━━━━━━━━━━━━━━━━\u001b[0m\u001b[37m\u001b[0m \u001b[1m1s\u001b[0m 2ms/step - accuracy: 0.9916 - loss: 0.0193 - val_accuracy: 0.6485 - val_loss: 1.8315\n"
     ]
    }
   ],
   "source": [
    "from tensorflow.keras.layers import Embedding,Flatten\n",
    "embedding_len=50\n",
    "model=Sequential()\n",
    "model.add(Embedding(input_dim=len(word_index)+1,output_dim=embedding_len,input_length=seq_len))\n",
    "model.add(Flatten())\n",
    "model.add(Dense(64,activation='relu'))\n",
    "model.add(Dense(32,activation='relu'))\n",
    "model.add(Dense(1,activation='sigmoid'))\n",
    "\n",
    "model.compile(loss='binary_crossentropy',optimizer='adam',metrics=['accuracy'])\n",
    "\n",
    "history5=model.fit(xtrain,ytrain,epochs=epochs,batch_size=batch_size,validation_data=(x_val,y_val))\n"
   ]
  },
  {
   "cell_type": "code",
   "execution_count": null,
   "id": "68517106",
   "metadata": {
    "papermill": {
     "duration": 0.077446,
     "end_time": "2024-11-23T15:28:02.277789",
     "exception": false,
     "start_time": "2024-11-23T15:28:02.200343",
     "status": "completed"
    },
    "tags": []
   },
   "outputs": [],
   "source": []
  }
 ],
 "metadata": {
  "kaggle": {
   "accelerator": "nvidiaTeslaT4",
   "dataSources": [
    {
     "datasetId": 2477,
     "sourceId": 4140,
     "sourceType": "datasetVersion"
    }
   ],
   "dockerImageVersionId": 30786,
   "isGpuEnabled": true,
   "isInternetEnabled": true,
   "language": "python",
   "sourceType": "notebook"
  },
  "kernelspec": {
   "display_name": "Python 3",
   "language": "python",
   "name": "python3"
  },
  "language_info": {
   "codemirror_mode": {
    "name": "ipython",
    "version": 3
   },
   "file_extension": ".py",
   "mimetype": "text/x-python",
   "name": "python",
   "nbconvert_exporter": "python",
   "pygments_lexer": "ipython3",
   "version": "3.10.14"
  },
  "papermill": {
   "default_parameters": {},
   "duration": 279.771178,
   "end_time": "2024-11-23T15:28:05.463497",
   "environment_variables": {},
   "exception": null,
   "input_path": "__notebook__.ipynb",
   "output_path": "__notebook__.ipynb",
   "parameters": {},
   "start_time": "2024-11-23T15:23:25.692319",
   "version": "2.6.0"
  }
 },
 "nbformat": 4,
 "nbformat_minor": 5
}
